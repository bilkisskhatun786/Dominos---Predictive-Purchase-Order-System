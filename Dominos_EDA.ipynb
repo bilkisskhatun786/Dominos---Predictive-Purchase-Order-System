{
 "cells": [
  {
   "cell_type": "code",
   "execution_count": 6,
   "id": "5db37bde-7390-418d-b6ad-9be460a65855",
   "metadata": {},
   "outputs": [],
   "source": [
    "import numpy as np\n",
    "import pandas as pd\n",
    "import matplotlib.pyplot as plt\n",
    "%matplotlib inline"
   ]
  },
  {
   "cell_type": "code",
   "execution_count": 7,
   "id": "99f00ac4-5a8a-4a60-8317-1ba1c8e10c3c",
   "metadata": {},
   "outputs": [
    {
     "name": "stdout",
     "output_type": "stream",
     "text": [
      "Requirement already satisfied: openpyxl in c:\\users\\dell\\appdata\\local\\programs\\python\\python312\\lib\\site-packages (3.1.5)\n",
      "Requirement already satisfied: et-xmlfile in c:\\users\\dell\\appdata\\local\\programs\\python\\python312\\lib\\site-packages (from openpyxl) (1.1.0)\n"
     ]
    }
   ],
   "source": [
    "!pip install openpyxl"
   ]
  },
  {
   "cell_type": "code",
   "execution_count": 29,
   "id": "8f46a31c-c764-4f00-b3ac-c4a69181bf96",
   "metadata": {},
   "outputs": [
    {
     "data": {
      "text/html": [
       "<div>\n",
       "<style scoped>\n",
       "    .dataframe tbody tr th:only-of-type {\n",
       "        vertical-align: middle;\n",
       "    }\n",
       "\n",
       "    .dataframe tbody tr th {\n",
       "        vertical-align: top;\n",
       "    }\n",
       "\n",
       "    .dataframe thead th {\n",
       "        text-align: right;\n",
       "    }\n",
       "</style>\n",
       "<table border=\"1\" class=\"dataframe\">\n",
       "  <thead>\n",
       "    <tr style=\"text-align: right;\">\n",
       "      <th></th>\n",
       "      <th>pizza_name_id</th>\n",
       "      <th>pizza_name</th>\n",
       "      <th>pizza_ingredients</th>\n",
       "      <th>Items_Qty_In_Grams</th>\n",
       "    </tr>\n",
       "  </thead>\n",
       "  <tbody>\n",
       "    <tr>\n",
       "      <th>0</th>\n",
       "      <td>bbq_ckn_l</td>\n",
       "      <td>The Barbecue Chicken Pizza</td>\n",
       "      <td>Barbecued Chicken</td>\n",
       "      <td>40.0</td>\n",
       "    </tr>\n",
       "    <tr>\n",
       "      <th>1</th>\n",
       "      <td>bbq_ckn_l</td>\n",
       "      <td>The Barbecue Chicken Pizza</td>\n",
       "      <td>Red Peppers</td>\n",
       "      <td>15.0</td>\n",
       "    </tr>\n",
       "    <tr>\n",
       "      <th>2</th>\n",
       "      <td>bbq_ckn_l</td>\n",
       "      <td>The Barbecue Chicken Pizza</td>\n",
       "      <td>Green Peppers</td>\n",
       "      <td>20.0</td>\n",
       "    </tr>\n",
       "    <tr>\n",
       "      <th>3</th>\n",
       "      <td>bbq_ckn_l</td>\n",
       "      <td>The Barbecue Chicken Pizza</td>\n",
       "      <td>Tomatoes</td>\n",
       "      <td>30.0</td>\n",
       "    </tr>\n",
       "    <tr>\n",
       "      <th>4</th>\n",
       "      <td>bbq_ckn_l</td>\n",
       "      <td>The Barbecue Chicken Pizza</td>\n",
       "      <td>Red Onions</td>\n",
       "      <td>60.0</td>\n",
       "    </tr>\n",
       "    <tr>\n",
       "      <th>...</th>\n",
       "      <td>...</td>\n",
       "      <td>...</td>\n",
       "      <td>...</td>\n",
       "      <td>...</td>\n",
       "    </tr>\n",
       "    <tr>\n",
       "      <th>513</th>\n",
       "      <td>veggie_veg_s</td>\n",
       "      <td>The Vegetables + Vegetables Pizza</td>\n",
       "      <td>Green Peppers</td>\n",
       "      <td>20.0</td>\n",
       "    </tr>\n",
       "    <tr>\n",
       "      <th>514</th>\n",
       "      <td>veggie_veg_s</td>\n",
       "      <td>The Vegetables + Vegetables Pizza</td>\n",
       "      <td>Red Onions</td>\n",
       "      <td>20.0</td>\n",
       "    </tr>\n",
       "    <tr>\n",
       "      <th>515</th>\n",
       "      <td>veggie_veg_s</td>\n",
       "      <td>The Vegetables + Vegetables Pizza</td>\n",
       "      <td>Zucchini</td>\n",
       "      <td>10.0</td>\n",
       "    </tr>\n",
       "    <tr>\n",
       "      <th>516</th>\n",
       "      <td>veggie_veg_s</td>\n",
       "      <td>The Vegetables + Vegetables Pizza</td>\n",
       "      <td>Spinach</td>\n",
       "      <td>15.0</td>\n",
       "    </tr>\n",
       "    <tr>\n",
       "      <th>517</th>\n",
       "      <td>veggie_veg_s</td>\n",
       "      <td>The Vegetables + Vegetables Pizza</td>\n",
       "      <td>Garlic</td>\n",
       "      <td>5.0</td>\n",
       "    </tr>\n",
       "  </tbody>\n",
       "</table>\n",
       "<p>518 rows × 4 columns</p>\n",
       "</div>"
      ],
      "text/plain": [
       "    pizza_name_id                         pizza_name  pizza_ingredients  \\\n",
       "0       bbq_ckn_l         The Barbecue Chicken Pizza  Barbecued Chicken   \n",
       "1       bbq_ckn_l         The Barbecue Chicken Pizza        Red Peppers   \n",
       "2       bbq_ckn_l         The Barbecue Chicken Pizza      Green Peppers   \n",
       "3       bbq_ckn_l         The Barbecue Chicken Pizza           Tomatoes   \n",
       "4       bbq_ckn_l         The Barbecue Chicken Pizza         Red Onions   \n",
       "..            ...                                ...                ...   \n",
       "513  veggie_veg_s  The Vegetables + Vegetables Pizza      Green Peppers   \n",
       "514  veggie_veg_s  The Vegetables + Vegetables Pizza         Red Onions   \n",
       "515  veggie_veg_s  The Vegetables + Vegetables Pizza           Zucchini   \n",
       "516  veggie_veg_s  The Vegetables + Vegetables Pizza            Spinach   \n",
       "517  veggie_veg_s  The Vegetables + Vegetables Pizza             Garlic   \n",
       "\n",
       "     Items_Qty_In_Grams  \n",
       "0                  40.0  \n",
       "1                  15.0  \n",
       "2                  20.0  \n",
       "3                  30.0  \n",
       "4                  60.0  \n",
       "..                  ...  \n",
       "513                20.0  \n",
       "514                20.0  \n",
       "515                10.0  \n",
       "516                15.0  \n",
       "517                 5.0  \n",
       "\n",
       "[518 rows x 4 columns]"
      ]
     },
     "execution_count": 29,
     "metadata": {},
     "output_type": "execute_result"
    }
   ],
   "source": [
    "df = pd.read_excel(r\"C:\\Users\\Dell\\Downloads\\Pizza_ingredients.xlsx\") # Load your dataset\n",
    "df"
   ]
  },
  {
   "cell_type": "markdown",
   "id": "abbaf750-59d2-4bc5-8020-15e22bb11d47",
   "metadata": {},
   "source": [
    "# Dataset Overview"
   ]
  },
  {
   "cell_type": "code",
   "execution_count": 30,
   "id": "62a3ba09-edf6-4c72-8b12-4fa38c8c9410",
   "metadata": {},
   "outputs": [
    {
     "name": "stdout",
     "output_type": "stream",
     "text": [
      "Dataset Overview:\n"
     ]
    }
   ],
   "source": [
    "print(\"Dataset Overview:\")"
   ]
  },
  {
   "cell_type": "code",
   "execution_count": 31,
   "id": "8fdeab21-fc1e-4f9b-8a00-f9e6eb40eaa3",
   "metadata": {},
   "outputs": [
    {
     "name": "stdout",
     "output_type": "stream",
     "text": [
      "<class 'pandas.core.frame.DataFrame'>\n",
      "RangeIndex: 518 entries, 0 to 517\n",
      "Data columns (total 4 columns):\n",
      " #   Column              Non-Null Count  Dtype  \n",
      "---  ------              --------------  -----  \n",
      " 0   pizza_name_id       518 non-null    object \n",
      " 1   pizza_name          518 non-null    object \n",
      " 2   pizza_ingredients   518 non-null    object \n",
      " 3   Items_Qty_In_Grams  514 non-null    float64\n",
      "dtypes: float64(1), object(3)\n",
      "memory usage: 16.3+ KB\n",
      "None\n"
     ]
    }
   ],
   "source": [
    "print(df.info())  # Data types, non-null count"
   ]
  },
  {
   "cell_type": "code",
   "execution_count": 34,
   "id": "4a3fb019-68ce-4856-8930-271fdbb9a111",
   "metadata": {},
   "outputs": [
    {
     "name": "stdout",
     "output_type": "stream",
     "text": [
      "\n",
      "Summary Statistics for Numerical Columns:\n",
      "       Items_Qty_In_Grams\n",
      "count          514.000000\n",
      "mean            30.564202\n",
      "std             30.351623\n",
      "min              5.000000\n",
      "25%             10.000000\n",
      "50%             20.000000\n",
      "75%             40.000000\n",
      "max            200.000000\n"
     ]
    }
   ],
   "source": [
    "print(\"\\nSummary Statistics for Numerical Columns:\")\n",
    "print(df.describe())  # Summary statistics for numerical columns"
   ]
  },
  {
   "cell_type": "markdown",
   "id": "823c9aea-0213-4cf2-8e4e-b4be18ac8d49",
   "metadata": {},
   "source": [
    "# Missing Data Analysis"
   ]
  },
  {
   "cell_type": "code",
   "execution_count": 35,
   "id": "4cf00ad9-c268-4c74-aa7b-4d126037937f",
   "metadata": {},
   "outputs": [
    {
     "name": "stdout",
     "output_type": "stream",
     "text": [
      "\n",
      "Missing Data Count per Column:\n"
     ]
    }
   ],
   "source": [
    "# Count missing values per column\n",
    "print(\"\\nMissing Data Count per Column:\")"
   ]
  },
  {
   "cell_type": "code",
   "execution_count": 36,
   "id": "781e7602-0889-4576-b00e-86d8b4505183",
   "metadata": {},
   "outputs": [
    {
     "name": "stdout",
     "output_type": "stream",
     "text": [
      "pizza_name_id         0\n",
      "pizza_name            0\n",
      "pizza_ingredients     0\n",
      "Items_Qty_In_Grams    4\n",
      "dtype: int64\n"
     ]
    }
   ],
   "source": [
    "missing_values = df.isnull().sum()\n",
    "print(missing_values)"
   ]
  },
  {
   "cell_type": "code",
   "execution_count": 39,
   "id": "54c97cf3-2e6d-45ab-a230-8bcc4f73a1de",
   "metadata": {},
   "outputs": [],
   "source": [
    "# Display rows that have missing data"
   ]
  },
  {
   "cell_type": "code",
   "execution_count": 40,
   "id": "cbeb9ff4-122a-4429-b4a1-e4953be9e44c",
   "metadata": {},
   "outputs": [
    {
     "name": "stdout",
     "output_type": "stream",
     "text": [
      "\n",
      "Rows with Missing Data:\n",
      "    pizza_name_id            pizza_name   pizza_ingredients  \\\n",
      "24   brie_carre_s  The Brie Carre Pizza  Caramelized Onions   \n",
      "149    hawaiian_l    The Hawaiian Pizza          Sliced Ham   \n",
      "152    hawaiian_m    The Hawaiian Pizza          Sliced Ham   \n",
      "155    hawaiian_s    The Hawaiian Pizza          Sliced Ham   \n",
      "\n",
      "     Items_Qty_In_Grams  \n",
      "24                  NaN  \n",
      "149                 NaN  \n",
      "152                 NaN  \n",
      "155                 NaN  \n"
     ]
    }
   ],
   "source": [
    "print(\"\\nRows with Missing Data:\")\n",
    "print(df[df.isnull().any(axis=1)])  # Display rows with missing values"
   ]
  },
  {
   "cell_type": "code",
   "execution_count": 42,
   "id": "585cacd7-06c1-405c-a13b-359b340089f7",
   "metadata": {},
   "outputs": [],
   "source": [
    "# Unique Value Counts per Column"
   ]
  },
  {
   "cell_type": "code",
   "execution_count": 43,
   "id": "3719549d-6c40-4d70-9ec4-bfa85dc225e9",
   "metadata": {},
   "outputs": [],
   "source": [
    "columns_of_interest = [\n",
    "    'pizza_id', 'order_id', 'pizza_name_id', 'quantity', 'order_date', \n",
    "    'order_time', 'unit_price', 'total_price', 'pizza_size', \n",
    "    'pizza_category', 'pizza_ingredients'\n",
    "]"
   ]
  },
  {
   "cell_type": "code",
   "execution_count": 56,
   "id": "9181fe0c-d3ad-46c8-ae0b-cb7f44b19df5",
   "metadata": {},
   "outputs": [
    {
     "name": "stdout",
     "output_type": "stream",
     "text": [
      "\n",
      "Unique Values Count per Column:\n",
      "pizza_name_id: 91 unique values\n",
      "pizza_name_id: 91 unique values\n",
      "pizza_name_id: 91 unique values\n",
      "pizza_name_id: 91 unique values\n",
      "pizza_name_id: 91 unique values\n",
      "pizza_name_id: 91 unique values\n",
      "pizza_name_id: 91 unique values\n",
      "pizza_name_id: 91 unique values\n",
      "pizza_name_id: 91 unique values\n",
      "pizza_name_id: 91 unique values\n",
      "pizza_name_id: 91 unique values\n"
     ]
    }
   ],
   "source": [
    "# Print the number of unique values in each column\n",
    "print(\"\\nUnique Values Count per Column:\")\n",
    "for col in columns_of_interest:\n",
    "    unique_count = df['pizza_name_id'].nunique()\n",
    "    print(f\"{'pizza_name_id'}: {unique_count} unique values\")"
   ]
  },
  {
   "cell_type": "code",
   "execution_count": 57,
   "id": "1ae6b9bc-5df7-448c-9d62-d6cbe68cc8b2",
   "metadata": {},
   "outputs": [
    {
     "name": "stdout",
     "output_type": "stream",
     "text": [
      "\n",
      "Unique Values for Each Column:\n",
      "\n",
      "Unique values in pizza_name_id:\n",
      "['bbq_ckn_l' 'bbq_ckn_m' 'bbq_ckn_s' 'big_meat_s' 'brie_carre_s'\n",
      " 'calabrese_l' 'calabrese_m' 'calabrese_s' 'cali_ckn_l' 'cali_ckn_m'\n",
      " 'cali_ckn_s' 'ckn_alfredo_l' 'ckn_alfredo_m' 'ckn_alfredo_s'\n",
      " 'ckn_pesto_l' 'ckn_pesto_m' 'ckn_pesto_s' 'classic_dlx_l' 'classic_dlx_m'\n",
      " 'classic_dlx_s' 'five_cheese_l' 'four_cheese_l' 'four_cheese_m'\n",
      " 'green_garden_l' 'green_garden_m' 'green_garden_s' 'hawaiian_l'\n",
      " 'hawaiian_m' 'hawaiian_s' 'ital_cpcllo_l' 'ital_cpcllo_m' 'ital_cpcllo_s'\n",
      " 'ital_supr_l' 'ital_supr_m' 'ital_supr_s' 'ital_veggie_l' 'ital_veggie_m'\n",
      " 'ital_veggie_s' 'mediterraneo_l' 'mediterraneo_m' 'mediterraneo_s'\n",
      " 'mexicana_l' 'mexicana_m' 'mexicana_s' 'napolitana_l' 'napolitana_m'\n",
      " 'napolitana_s' 'pep_msh_pep_l' 'pep_msh_pep_m' 'pep_msh_pep_s'\n",
      " 'pepperoni_l' 'pepperoni_m' 'pepperoni_s' 'peppr_salami_l'\n",
      " 'peppr_salami_m' 'peppr_salami_s' 'prsc_argla_l' 'prsc_argla_m'\n",
      " 'prsc_argla_s' 'sicilian_l' 'sicilian_m' 'sicilian_s' 'soppressata_l'\n",
      " 'soppressata_m' 'soppressata_s' 'southw_ckn_l' 'southw_ckn_m'\n",
      " 'southw_ckn_s' 'spicy_ital_l' 'spicy_ital_m' 'spicy_ital_s'\n",
      " 'spin_pesto_l' 'spin_pesto_m' 'spin_pesto_s' 'spinach_fet_l'\n",
      " 'spinach_fet_m' 'spinach_fet_s' 'spinach_supr_l' 'spinach_supr_m'\n",
      " 'spinach_supr_s' 'thai_ckn_l' 'thai_ckn_m' 'thai_ckn_s' 'the_greek_l'\n",
      " 'the_greek_m' 'the_greek_s' 'the_greek_xl' 'the_greek_xxl' 'veggie_veg_l'\n",
      " 'veggie_veg_m' 'veggie_veg_s']\n",
      "\n",
      "Unique values in pizza_name_id:\n",
      "['bbq_ckn_l' 'bbq_ckn_m' 'bbq_ckn_s' 'big_meat_s' 'brie_carre_s'\n",
      " 'calabrese_l' 'calabrese_m' 'calabrese_s' 'cali_ckn_l' 'cali_ckn_m'\n",
      " 'cali_ckn_s' 'ckn_alfredo_l' 'ckn_alfredo_m' 'ckn_alfredo_s'\n",
      " 'ckn_pesto_l' 'ckn_pesto_m' 'ckn_pesto_s' 'classic_dlx_l' 'classic_dlx_m'\n",
      " 'classic_dlx_s' 'five_cheese_l' 'four_cheese_l' 'four_cheese_m'\n",
      " 'green_garden_l' 'green_garden_m' 'green_garden_s' 'hawaiian_l'\n",
      " 'hawaiian_m' 'hawaiian_s' 'ital_cpcllo_l' 'ital_cpcllo_m' 'ital_cpcllo_s'\n",
      " 'ital_supr_l' 'ital_supr_m' 'ital_supr_s' 'ital_veggie_l' 'ital_veggie_m'\n",
      " 'ital_veggie_s' 'mediterraneo_l' 'mediterraneo_m' 'mediterraneo_s'\n",
      " 'mexicana_l' 'mexicana_m' 'mexicana_s' 'napolitana_l' 'napolitana_m'\n",
      " 'napolitana_s' 'pep_msh_pep_l' 'pep_msh_pep_m' 'pep_msh_pep_s'\n",
      " 'pepperoni_l' 'pepperoni_m' 'pepperoni_s' 'peppr_salami_l'\n",
      " 'peppr_salami_m' 'peppr_salami_s' 'prsc_argla_l' 'prsc_argla_m'\n",
      " 'prsc_argla_s' 'sicilian_l' 'sicilian_m' 'sicilian_s' 'soppressata_l'\n",
      " 'soppressata_m' 'soppressata_s' 'southw_ckn_l' 'southw_ckn_m'\n",
      " 'southw_ckn_s' 'spicy_ital_l' 'spicy_ital_m' 'spicy_ital_s'\n",
      " 'spin_pesto_l' 'spin_pesto_m' 'spin_pesto_s' 'spinach_fet_l'\n",
      " 'spinach_fet_m' 'spinach_fet_s' 'spinach_supr_l' 'spinach_supr_m'\n",
      " 'spinach_supr_s' 'thai_ckn_l' 'thai_ckn_m' 'thai_ckn_s' 'the_greek_l'\n",
      " 'the_greek_m' 'the_greek_s' 'the_greek_xl' 'the_greek_xxl' 'veggie_veg_l'\n",
      " 'veggie_veg_m' 'veggie_veg_s']\n",
      "\n",
      "Unique values in pizza_name_id:\n",
      "['bbq_ckn_l' 'bbq_ckn_m' 'bbq_ckn_s' 'big_meat_s' 'brie_carre_s'\n",
      " 'calabrese_l' 'calabrese_m' 'calabrese_s' 'cali_ckn_l' 'cali_ckn_m'\n",
      " 'cali_ckn_s' 'ckn_alfredo_l' 'ckn_alfredo_m' 'ckn_alfredo_s'\n",
      " 'ckn_pesto_l' 'ckn_pesto_m' 'ckn_pesto_s' 'classic_dlx_l' 'classic_dlx_m'\n",
      " 'classic_dlx_s' 'five_cheese_l' 'four_cheese_l' 'four_cheese_m'\n",
      " 'green_garden_l' 'green_garden_m' 'green_garden_s' 'hawaiian_l'\n",
      " 'hawaiian_m' 'hawaiian_s' 'ital_cpcllo_l' 'ital_cpcllo_m' 'ital_cpcllo_s'\n",
      " 'ital_supr_l' 'ital_supr_m' 'ital_supr_s' 'ital_veggie_l' 'ital_veggie_m'\n",
      " 'ital_veggie_s' 'mediterraneo_l' 'mediterraneo_m' 'mediterraneo_s'\n",
      " 'mexicana_l' 'mexicana_m' 'mexicana_s' 'napolitana_l' 'napolitana_m'\n",
      " 'napolitana_s' 'pep_msh_pep_l' 'pep_msh_pep_m' 'pep_msh_pep_s'\n",
      " 'pepperoni_l' 'pepperoni_m' 'pepperoni_s' 'peppr_salami_l'\n",
      " 'peppr_salami_m' 'peppr_salami_s' 'prsc_argla_l' 'prsc_argla_m'\n",
      " 'prsc_argla_s' 'sicilian_l' 'sicilian_m' 'sicilian_s' 'soppressata_l'\n",
      " 'soppressata_m' 'soppressata_s' 'southw_ckn_l' 'southw_ckn_m'\n",
      " 'southw_ckn_s' 'spicy_ital_l' 'spicy_ital_m' 'spicy_ital_s'\n",
      " 'spin_pesto_l' 'spin_pesto_m' 'spin_pesto_s' 'spinach_fet_l'\n",
      " 'spinach_fet_m' 'spinach_fet_s' 'spinach_supr_l' 'spinach_supr_m'\n",
      " 'spinach_supr_s' 'thai_ckn_l' 'thai_ckn_m' 'thai_ckn_s' 'the_greek_l'\n",
      " 'the_greek_m' 'the_greek_s' 'the_greek_xl' 'the_greek_xxl' 'veggie_veg_l'\n",
      " 'veggie_veg_m' 'veggie_veg_s']\n",
      "\n",
      "Unique values in pizza_name_id:\n",
      "['bbq_ckn_l' 'bbq_ckn_m' 'bbq_ckn_s' 'big_meat_s' 'brie_carre_s'\n",
      " 'calabrese_l' 'calabrese_m' 'calabrese_s' 'cali_ckn_l' 'cali_ckn_m'\n",
      " 'cali_ckn_s' 'ckn_alfredo_l' 'ckn_alfredo_m' 'ckn_alfredo_s'\n",
      " 'ckn_pesto_l' 'ckn_pesto_m' 'ckn_pesto_s' 'classic_dlx_l' 'classic_dlx_m'\n",
      " 'classic_dlx_s' 'five_cheese_l' 'four_cheese_l' 'four_cheese_m'\n",
      " 'green_garden_l' 'green_garden_m' 'green_garden_s' 'hawaiian_l'\n",
      " 'hawaiian_m' 'hawaiian_s' 'ital_cpcllo_l' 'ital_cpcllo_m' 'ital_cpcllo_s'\n",
      " 'ital_supr_l' 'ital_supr_m' 'ital_supr_s' 'ital_veggie_l' 'ital_veggie_m'\n",
      " 'ital_veggie_s' 'mediterraneo_l' 'mediterraneo_m' 'mediterraneo_s'\n",
      " 'mexicana_l' 'mexicana_m' 'mexicana_s' 'napolitana_l' 'napolitana_m'\n",
      " 'napolitana_s' 'pep_msh_pep_l' 'pep_msh_pep_m' 'pep_msh_pep_s'\n",
      " 'pepperoni_l' 'pepperoni_m' 'pepperoni_s' 'peppr_salami_l'\n",
      " 'peppr_salami_m' 'peppr_salami_s' 'prsc_argla_l' 'prsc_argla_m'\n",
      " 'prsc_argla_s' 'sicilian_l' 'sicilian_m' 'sicilian_s' 'soppressata_l'\n",
      " 'soppressata_m' 'soppressata_s' 'southw_ckn_l' 'southw_ckn_m'\n",
      " 'southw_ckn_s' 'spicy_ital_l' 'spicy_ital_m' 'spicy_ital_s'\n",
      " 'spin_pesto_l' 'spin_pesto_m' 'spin_pesto_s' 'spinach_fet_l'\n",
      " 'spinach_fet_m' 'spinach_fet_s' 'spinach_supr_l' 'spinach_supr_m'\n",
      " 'spinach_supr_s' 'thai_ckn_l' 'thai_ckn_m' 'thai_ckn_s' 'the_greek_l'\n",
      " 'the_greek_m' 'the_greek_s' 'the_greek_xl' 'the_greek_xxl' 'veggie_veg_l'\n",
      " 'veggie_veg_m' 'veggie_veg_s']\n",
      "\n",
      "Unique values in pizza_name_id:\n",
      "['bbq_ckn_l' 'bbq_ckn_m' 'bbq_ckn_s' 'big_meat_s' 'brie_carre_s'\n",
      " 'calabrese_l' 'calabrese_m' 'calabrese_s' 'cali_ckn_l' 'cali_ckn_m'\n",
      " 'cali_ckn_s' 'ckn_alfredo_l' 'ckn_alfredo_m' 'ckn_alfredo_s'\n",
      " 'ckn_pesto_l' 'ckn_pesto_m' 'ckn_pesto_s' 'classic_dlx_l' 'classic_dlx_m'\n",
      " 'classic_dlx_s' 'five_cheese_l' 'four_cheese_l' 'four_cheese_m'\n",
      " 'green_garden_l' 'green_garden_m' 'green_garden_s' 'hawaiian_l'\n",
      " 'hawaiian_m' 'hawaiian_s' 'ital_cpcllo_l' 'ital_cpcllo_m' 'ital_cpcllo_s'\n",
      " 'ital_supr_l' 'ital_supr_m' 'ital_supr_s' 'ital_veggie_l' 'ital_veggie_m'\n",
      " 'ital_veggie_s' 'mediterraneo_l' 'mediterraneo_m' 'mediterraneo_s'\n",
      " 'mexicana_l' 'mexicana_m' 'mexicana_s' 'napolitana_l' 'napolitana_m'\n",
      " 'napolitana_s' 'pep_msh_pep_l' 'pep_msh_pep_m' 'pep_msh_pep_s'\n",
      " 'pepperoni_l' 'pepperoni_m' 'pepperoni_s' 'peppr_salami_l'\n",
      " 'peppr_salami_m' 'peppr_salami_s' 'prsc_argla_l' 'prsc_argla_m'\n",
      " 'prsc_argla_s' 'sicilian_l' 'sicilian_m' 'sicilian_s' 'soppressata_l'\n",
      " 'soppressata_m' 'soppressata_s' 'southw_ckn_l' 'southw_ckn_m'\n",
      " 'southw_ckn_s' 'spicy_ital_l' 'spicy_ital_m' 'spicy_ital_s'\n",
      " 'spin_pesto_l' 'spin_pesto_m' 'spin_pesto_s' 'spinach_fet_l'\n",
      " 'spinach_fet_m' 'spinach_fet_s' 'spinach_supr_l' 'spinach_supr_m'\n",
      " 'spinach_supr_s' 'thai_ckn_l' 'thai_ckn_m' 'thai_ckn_s' 'the_greek_l'\n",
      " 'the_greek_m' 'the_greek_s' 'the_greek_xl' 'the_greek_xxl' 'veggie_veg_l'\n",
      " 'veggie_veg_m' 'veggie_veg_s']\n",
      "\n",
      "Unique values in pizza_name_id:\n",
      "['bbq_ckn_l' 'bbq_ckn_m' 'bbq_ckn_s' 'big_meat_s' 'brie_carre_s'\n",
      " 'calabrese_l' 'calabrese_m' 'calabrese_s' 'cali_ckn_l' 'cali_ckn_m'\n",
      " 'cali_ckn_s' 'ckn_alfredo_l' 'ckn_alfredo_m' 'ckn_alfredo_s'\n",
      " 'ckn_pesto_l' 'ckn_pesto_m' 'ckn_pesto_s' 'classic_dlx_l' 'classic_dlx_m'\n",
      " 'classic_dlx_s' 'five_cheese_l' 'four_cheese_l' 'four_cheese_m'\n",
      " 'green_garden_l' 'green_garden_m' 'green_garden_s' 'hawaiian_l'\n",
      " 'hawaiian_m' 'hawaiian_s' 'ital_cpcllo_l' 'ital_cpcllo_m' 'ital_cpcllo_s'\n",
      " 'ital_supr_l' 'ital_supr_m' 'ital_supr_s' 'ital_veggie_l' 'ital_veggie_m'\n",
      " 'ital_veggie_s' 'mediterraneo_l' 'mediterraneo_m' 'mediterraneo_s'\n",
      " 'mexicana_l' 'mexicana_m' 'mexicana_s' 'napolitana_l' 'napolitana_m'\n",
      " 'napolitana_s' 'pep_msh_pep_l' 'pep_msh_pep_m' 'pep_msh_pep_s'\n",
      " 'pepperoni_l' 'pepperoni_m' 'pepperoni_s' 'peppr_salami_l'\n",
      " 'peppr_salami_m' 'peppr_salami_s' 'prsc_argla_l' 'prsc_argla_m'\n",
      " 'prsc_argla_s' 'sicilian_l' 'sicilian_m' 'sicilian_s' 'soppressata_l'\n",
      " 'soppressata_m' 'soppressata_s' 'southw_ckn_l' 'southw_ckn_m'\n",
      " 'southw_ckn_s' 'spicy_ital_l' 'spicy_ital_m' 'spicy_ital_s'\n",
      " 'spin_pesto_l' 'spin_pesto_m' 'spin_pesto_s' 'spinach_fet_l'\n",
      " 'spinach_fet_m' 'spinach_fet_s' 'spinach_supr_l' 'spinach_supr_m'\n",
      " 'spinach_supr_s' 'thai_ckn_l' 'thai_ckn_m' 'thai_ckn_s' 'the_greek_l'\n",
      " 'the_greek_m' 'the_greek_s' 'the_greek_xl' 'the_greek_xxl' 'veggie_veg_l'\n",
      " 'veggie_veg_m' 'veggie_veg_s']\n",
      "\n",
      "Unique values in pizza_name_id:\n",
      "['bbq_ckn_l' 'bbq_ckn_m' 'bbq_ckn_s' 'big_meat_s' 'brie_carre_s'\n",
      " 'calabrese_l' 'calabrese_m' 'calabrese_s' 'cali_ckn_l' 'cali_ckn_m'\n",
      " 'cali_ckn_s' 'ckn_alfredo_l' 'ckn_alfredo_m' 'ckn_alfredo_s'\n",
      " 'ckn_pesto_l' 'ckn_pesto_m' 'ckn_pesto_s' 'classic_dlx_l' 'classic_dlx_m'\n",
      " 'classic_dlx_s' 'five_cheese_l' 'four_cheese_l' 'four_cheese_m'\n",
      " 'green_garden_l' 'green_garden_m' 'green_garden_s' 'hawaiian_l'\n",
      " 'hawaiian_m' 'hawaiian_s' 'ital_cpcllo_l' 'ital_cpcllo_m' 'ital_cpcllo_s'\n",
      " 'ital_supr_l' 'ital_supr_m' 'ital_supr_s' 'ital_veggie_l' 'ital_veggie_m'\n",
      " 'ital_veggie_s' 'mediterraneo_l' 'mediterraneo_m' 'mediterraneo_s'\n",
      " 'mexicana_l' 'mexicana_m' 'mexicana_s' 'napolitana_l' 'napolitana_m'\n",
      " 'napolitana_s' 'pep_msh_pep_l' 'pep_msh_pep_m' 'pep_msh_pep_s'\n",
      " 'pepperoni_l' 'pepperoni_m' 'pepperoni_s' 'peppr_salami_l'\n",
      " 'peppr_salami_m' 'peppr_salami_s' 'prsc_argla_l' 'prsc_argla_m'\n",
      " 'prsc_argla_s' 'sicilian_l' 'sicilian_m' 'sicilian_s' 'soppressata_l'\n",
      " 'soppressata_m' 'soppressata_s' 'southw_ckn_l' 'southw_ckn_m'\n",
      " 'southw_ckn_s' 'spicy_ital_l' 'spicy_ital_m' 'spicy_ital_s'\n",
      " 'spin_pesto_l' 'spin_pesto_m' 'spin_pesto_s' 'spinach_fet_l'\n",
      " 'spinach_fet_m' 'spinach_fet_s' 'spinach_supr_l' 'spinach_supr_m'\n",
      " 'spinach_supr_s' 'thai_ckn_l' 'thai_ckn_m' 'thai_ckn_s' 'the_greek_l'\n",
      " 'the_greek_m' 'the_greek_s' 'the_greek_xl' 'the_greek_xxl' 'veggie_veg_l'\n",
      " 'veggie_veg_m' 'veggie_veg_s']\n",
      "\n",
      "Unique values in pizza_name_id:\n",
      "['bbq_ckn_l' 'bbq_ckn_m' 'bbq_ckn_s' 'big_meat_s' 'brie_carre_s'\n",
      " 'calabrese_l' 'calabrese_m' 'calabrese_s' 'cali_ckn_l' 'cali_ckn_m'\n",
      " 'cali_ckn_s' 'ckn_alfredo_l' 'ckn_alfredo_m' 'ckn_alfredo_s'\n",
      " 'ckn_pesto_l' 'ckn_pesto_m' 'ckn_pesto_s' 'classic_dlx_l' 'classic_dlx_m'\n",
      " 'classic_dlx_s' 'five_cheese_l' 'four_cheese_l' 'four_cheese_m'\n",
      " 'green_garden_l' 'green_garden_m' 'green_garden_s' 'hawaiian_l'\n",
      " 'hawaiian_m' 'hawaiian_s' 'ital_cpcllo_l' 'ital_cpcllo_m' 'ital_cpcllo_s'\n",
      " 'ital_supr_l' 'ital_supr_m' 'ital_supr_s' 'ital_veggie_l' 'ital_veggie_m'\n",
      " 'ital_veggie_s' 'mediterraneo_l' 'mediterraneo_m' 'mediterraneo_s'\n",
      " 'mexicana_l' 'mexicana_m' 'mexicana_s' 'napolitana_l' 'napolitana_m'\n",
      " 'napolitana_s' 'pep_msh_pep_l' 'pep_msh_pep_m' 'pep_msh_pep_s'\n",
      " 'pepperoni_l' 'pepperoni_m' 'pepperoni_s' 'peppr_salami_l'\n",
      " 'peppr_salami_m' 'peppr_salami_s' 'prsc_argla_l' 'prsc_argla_m'\n",
      " 'prsc_argla_s' 'sicilian_l' 'sicilian_m' 'sicilian_s' 'soppressata_l'\n",
      " 'soppressata_m' 'soppressata_s' 'southw_ckn_l' 'southw_ckn_m'\n",
      " 'southw_ckn_s' 'spicy_ital_l' 'spicy_ital_m' 'spicy_ital_s'\n",
      " 'spin_pesto_l' 'spin_pesto_m' 'spin_pesto_s' 'spinach_fet_l'\n",
      " 'spinach_fet_m' 'spinach_fet_s' 'spinach_supr_l' 'spinach_supr_m'\n",
      " 'spinach_supr_s' 'thai_ckn_l' 'thai_ckn_m' 'thai_ckn_s' 'the_greek_l'\n",
      " 'the_greek_m' 'the_greek_s' 'the_greek_xl' 'the_greek_xxl' 'veggie_veg_l'\n",
      " 'veggie_veg_m' 'veggie_veg_s']\n",
      "\n",
      "Unique values in pizza_name_id:\n",
      "['bbq_ckn_l' 'bbq_ckn_m' 'bbq_ckn_s' 'big_meat_s' 'brie_carre_s'\n",
      " 'calabrese_l' 'calabrese_m' 'calabrese_s' 'cali_ckn_l' 'cali_ckn_m'\n",
      " 'cali_ckn_s' 'ckn_alfredo_l' 'ckn_alfredo_m' 'ckn_alfredo_s'\n",
      " 'ckn_pesto_l' 'ckn_pesto_m' 'ckn_pesto_s' 'classic_dlx_l' 'classic_dlx_m'\n",
      " 'classic_dlx_s' 'five_cheese_l' 'four_cheese_l' 'four_cheese_m'\n",
      " 'green_garden_l' 'green_garden_m' 'green_garden_s' 'hawaiian_l'\n",
      " 'hawaiian_m' 'hawaiian_s' 'ital_cpcllo_l' 'ital_cpcllo_m' 'ital_cpcllo_s'\n",
      " 'ital_supr_l' 'ital_supr_m' 'ital_supr_s' 'ital_veggie_l' 'ital_veggie_m'\n",
      " 'ital_veggie_s' 'mediterraneo_l' 'mediterraneo_m' 'mediterraneo_s'\n",
      " 'mexicana_l' 'mexicana_m' 'mexicana_s' 'napolitana_l' 'napolitana_m'\n",
      " 'napolitana_s' 'pep_msh_pep_l' 'pep_msh_pep_m' 'pep_msh_pep_s'\n",
      " 'pepperoni_l' 'pepperoni_m' 'pepperoni_s' 'peppr_salami_l'\n",
      " 'peppr_salami_m' 'peppr_salami_s' 'prsc_argla_l' 'prsc_argla_m'\n",
      " 'prsc_argla_s' 'sicilian_l' 'sicilian_m' 'sicilian_s' 'soppressata_l'\n",
      " 'soppressata_m' 'soppressata_s' 'southw_ckn_l' 'southw_ckn_m'\n",
      " 'southw_ckn_s' 'spicy_ital_l' 'spicy_ital_m' 'spicy_ital_s'\n",
      " 'spin_pesto_l' 'spin_pesto_m' 'spin_pesto_s' 'spinach_fet_l'\n",
      " 'spinach_fet_m' 'spinach_fet_s' 'spinach_supr_l' 'spinach_supr_m'\n",
      " 'spinach_supr_s' 'thai_ckn_l' 'thai_ckn_m' 'thai_ckn_s' 'the_greek_l'\n",
      " 'the_greek_m' 'the_greek_s' 'the_greek_xl' 'the_greek_xxl' 'veggie_veg_l'\n",
      " 'veggie_veg_m' 'veggie_veg_s']\n",
      "\n",
      "Unique values in pizza_name_id:\n",
      "['bbq_ckn_l' 'bbq_ckn_m' 'bbq_ckn_s' 'big_meat_s' 'brie_carre_s'\n",
      " 'calabrese_l' 'calabrese_m' 'calabrese_s' 'cali_ckn_l' 'cali_ckn_m'\n",
      " 'cali_ckn_s' 'ckn_alfredo_l' 'ckn_alfredo_m' 'ckn_alfredo_s'\n",
      " 'ckn_pesto_l' 'ckn_pesto_m' 'ckn_pesto_s' 'classic_dlx_l' 'classic_dlx_m'\n",
      " 'classic_dlx_s' 'five_cheese_l' 'four_cheese_l' 'four_cheese_m'\n",
      " 'green_garden_l' 'green_garden_m' 'green_garden_s' 'hawaiian_l'\n",
      " 'hawaiian_m' 'hawaiian_s' 'ital_cpcllo_l' 'ital_cpcllo_m' 'ital_cpcllo_s'\n",
      " 'ital_supr_l' 'ital_supr_m' 'ital_supr_s' 'ital_veggie_l' 'ital_veggie_m'\n",
      " 'ital_veggie_s' 'mediterraneo_l' 'mediterraneo_m' 'mediterraneo_s'\n",
      " 'mexicana_l' 'mexicana_m' 'mexicana_s' 'napolitana_l' 'napolitana_m'\n",
      " 'napolitana_s' 'pep_msh_pep_l' 'pep_msh_pep_m' 'pep_msh_pep_s'\n",
      " 'pepperoni_l' 'pepperoni_m' 'pepperoni_s' 'peppr_salami_l'\n",
      " 'peppr_salami_m' 'peppr_salami_s' 'prsc_argla_l' 'prsc_argla_m'\n",
      " 'prsc_argla_s' 'sicilian_l' 'sicilian_m' 'sicilian_s' 'soppressata_l'\n",
      " 'soppressata_m' 'soppressata_s' 'southw_ckn_l' 'southw_ckn_m'\n",
      " 'southw_ckn_s' 'spicy_ital_l' 'spicy_ital_m' 'spicy_ital_s'\n",
      " 'spin_pesto_l' 'spin_pesto_m' 'spin_pesto_s' 'spinach_fet_l'\n",
      " 'spinach_fet_m' 'spinach_fet_s' 'spinach_supr_l' 'spinach_supr_m'\n",
      " 'spinach_supr_s' 'thai_ckn_l' 'thai_ckn_m' 'thai_ckn_s' 'the_greek_l'\n",
      " 'the_greek_m' 'the_greek_s' 'the_greek_xl' 'the_greek_xxl' 'veggie_veg_l'\n",
      " 'veggie_veg_m' 'veggie_veg_s']\n",
      "\n",
      "Unique values in pizza_name_id:\n",
      "['bbq_ckn_l' 'bbq_ckn_m' 'bbq_ckn_s' 'big_meat_s' 'brie_carre_s'\n",
      " 'calabrese_l' 'calabrese_m' 'calabrese_s' 'cali_ckn_l' 'cali_ckn_m'\n",
      " 'cali_ckn_s' 'ckn_alfredo_l' 'ckn_alfredo_m' 'ckn_alfredo_s'\n",
      " 'ckn_pesto_l' 'ckn_pesto_m' 'ckn_pesto_s' 'classic_dlx_l' 'classic_dlx_m'\n",
      " 'classic_dlx_s' 'five_cheese_l' 'four_cheese_l' 'four_cheese_m'\n",
      " 'green_garden_l' 'green_garden_m' 'green_garden_s' 'hawaiian_l'\n",
      " 'hawaiian_m' 'hawaiian_s' 'ital_cpcllo_l' 'ital_cpcllo_m' 'ital_cpcllo_s'\n",
      " 'ital_supr_l' 'ital_supr_m' 'ital_supr_s' 'ital_veggie_l' 'ital_veggie_m'\n",
      " 'ital_veggie_s' 'mediterraneo_l' 'mediterraneo_m' 'mediterraneo_s'\n",
      " 'mexicana_l' 'mexicana_m' 'mexicana_s' 'napolitana_l' 'napolitana_m'\n",
      " 'napolitana_s' 'pep_msh_pep_l' 'pep_msh_pep_m' 'pep_msh_pep_s'\n",
      " 'pepperoni_l' 'pepperoni_m' 'pepperoni_s' 'peppr_salami_l'\n",
      " 'peppr_salami_m' 'peppr_salami_s' 'prsc_argla_l' 'prsc_argla_m'\n",
      " 'prsc_argla_s' 'sicilian_l' 'sicilian_m' 'sicilian_s' 'soppressata_l'\n",
      " 'soppressata_m' 'soppressata_s' 'southw_ckn_l' 'southw_ckn_m'\n",
      " 'southw_ckn_s' 'spicy_ital_l' 'spicy_ital_m' 'spicy_ital_s'\n",
      " 'spin_pesto_l' 'spin_pesto_m' 'spin_pesto_s' 'spinach_fet_l'\n",
      " 'spinach_fet_m' 'spinach_fet_s' 'spinach_supr_l' 'spinach_supr_m'\n",
      " 'spinach_supr_s' 'thai_ckn_l' 'thai_ckn_m' 'thai_ckn_s' 'the_greek_l'\n",
      " 'the_greek_m' 'the_greek_s' 'the_greek_xl' 'the_greek_xxl' 'veggie_veg_l'\n",
      " 'veggie_veg_m' 'veggie_veg_s']\n"
     ]
    }
   ],
   "source": [
    "# Display the unique values for each column\n",
    "print(\"\\nUnique Values for Each Column:\")\n",
    "for col in columns_of_interest:\n",
    "    print(f\"\\nUnique values in {'pizza_name_id'}:\")\n",
    "    print(df['pizza_name_id'].unique())"
   ]
  },
  {
   "cell_type": "code",
   "execution_count": 51,
   "id": "19ae8434-9121-4e53-9f44-ad9cdf9ecabb",
   "metadata": {},
   "outputs": [
    {
     "name": "stdout",
     "output_type": "stream",
     "text": [
      "\n",
      "Number of Duplicate Rows: 0\n",
      "Empty DataFrame\n",
      "Columns: [pizza_name_id, pizza_name, pizza_ingredients, Items_Qty_In_Grams]\n",
      "Index: []\n"
     ]
    }
   ],
   "source": [
    "# Check for duplicate rows\n",
    "duplicate_rows = df[df.duplicated()]\n",
    "print(f\"\\nNumber of Duplicate Rows: {len(duplicate_rows)}\")\n",
    "print(duplicate_rows)"
   ]
  },
  {
   "cell_type": "code",
   "execution_count": null,
   "id": "4d66959f-4607-4c34-8033-fe3d8fafc925",
   "metadata": {},
   "outputs": [],
   "source": [
    "# Plot distributions for categorical variables\n",
    "categorical_columns = ['pizza_name_id', 'pizza_name', 'pizza_ingredients', 'Items_Qty_In_Grams']\n",
    "\n",
    "for col in categorical_columns:\n",
    "    plt.figure(figsize=(10, 6)\n",
    "    sns.countplot(x='pizza_name_id', df=df, order=df['pizza_name_id'].value_counts().index)\n",
    "    plt.title(f\"Distribution of {'pizza_name_id'}\")\n",
    "    plt.xticks(rotation=45)\n",
    "    plt.show()"
   ]
  },
  {
   "cell_type": "code",
   "execution_count": 81,
   "id": "9182cd0e-149e-4fd6-b2b9-267782b50c73",
   "metadata": {},
   "outputs": [
    {
     "name": "stdout",
     "output_type": "stream",
     "text": [
      "\n",
      "Distribution analysis for pizza_name_id:\n",
      " - There are 91 unique values in pizza_name_id.\n",
      " - The most frequent value is 'mexicana_l' with 8 occurrences.\n",
      " - The distribution is balanced.\n"
     ]
    }
   ],
   "source": [
    "# Verbal explanation\n",
    "print(f\"\\nDistribution analysis for {col}:\")\n",
    "print(f\" - There are {df[col].nunique()} unique values in {col}.\")\n",
    "print(f\" - The most frequent value is '{df[col].mode()[0]}' with {df[col].value_counts().iloc[0]} occurrences.\")\n",
    "print(f\" - The distribution is {'skewed' if df[col].value_counts().iloc[0] / len(df) > 0.5 else 'balanced'}.\")"
   ]
  },
  {
   "cell_type": "code",
   "execution_count": 97,
   "id": "13e0d92c-8b8a-4f72-a1c4-a8aa8753257e",
   "metadata": {},
   "outputs": [],
   "source": [
    "# Plot distributions for numerical variables\n",
    "numerical_columns = ['pizza_name']"
   ]
  },
  {
   "cell_type": "code",
   "execution_count": 98,
   "id": "118bcda8-c1cb-485a-b73d-b175f06cf4a0",
   "metadata": {},
   "outputs": [
    {
     "data": {
      "image/png": "[encoded data removed]",
      "text/plain": [
       "<Figure size 1000x600 with 1 Axes>"
      ]
     },
     "metadata": {},
     "output_type": "display_data"
    }
   ],
   "source": [
    "for col in numerical_columns:\n",
    "    plt.figure(figsize=(10, 6))\n",
    "    sns.histplot(df[col], bins=30, kde=True)\n",
    "    plt.title(f\"Distribution of {col}\")\n",
    "    plt.show()"
   ]
  },
  {
   "cell_type": "code",
   "execution_count": 90,
   "id": "80629d3c-4c59-423c-814b-3fa50c723796",
   "metadata": {},
   "outputs": [
    {
     "name": "stdout",
     "output_type": "stream",
     "text": [
      "\n",
      "Distribution analysis for Items_Qty_In_Grams:\n",
      " - Mean: 30.56420233463035\n",
      " - Median: 20.0\n",
      " - The distribution has a skew. Skewness: 2.3815523884601726.\n"
     ]
    }
   ],
   "source": [
    "# Verbal explanation\n",
    "print(f\"\\nDistribution analysis for {col}:\")\n",
    "print(f\" - Mean: {df[col].mean()}\")\n",
    "print(f\" - Median: {df[col].median()}\")\n",
    "print(f\" - The distribution {'has a skew' if abs(df[col].skew()) > 0.5 else 'is fairly normal'}. Skewness: {df[col].skew()}.\")"
   ]
  },
  {
   "cell_type": "code",
   "execution_count": 92,
   "id": "1270014c-0a86-4686-a236-f34957b32a39",
   "metadata": {},
   "outputs": [
    {
     "data": {
      "image/png": "[encoded data removed]",
      "text/plain": [
       "<Figure size 1000x600 with 1 Axes>"
      ]
     },
     "metadata": {},
     "output_type": "display_data"
    }
   ],
   "source": [
    "# Plot distributions for numerical variables\n",
    "numerical_columns = ['Items_Qty_In_Grams']\n",
    "\n",
    "for col in numerical_columns:\n",
    "    plt.figure(figsize=(10, 6))\n",
    "    sns.histplot(df[col], bins=30, kde=True)\n",
    "    plt.title(f\"Distribution of {col}\")\n",
    "    plt.show()"
   ]
  },
  {
   "cell_type": "code",
   "execution_count": 104,
   "id": "c4899b85-968b-4a6e-b683-ee57cc257cbb",
   "metadata": {},
   "outputs": [],
   "source": [
    "import numpy as np\n",
    "import pandas as pd\n",
    "import matplotlib.pyplot as plt\n",
    "%matplotlib inline"
   ]
  },
  {
   "cell_type": "code",
   "execution_count": 105,
   "id": "0d545b0c-4dc7-4332-96ae-4e0d87762920",
   "metadata": {},
   "outputs": [
    {
     "data": {
      "text/html": [
       "<div>\n",
       "<style scoped>\n",
       "    .dataframe tbody tr th:only-of-type {\n",
       "        vertical-align: middle;\n",
       "    }\n",
       "\n",
       "    .dataframe tbody tr th {\n",
       "        vertical-align: top;\n",
       "    }\n",
       "\n",
       "    .dataframe thead th {\n",
       "        text-align: right;\n",
       "    }\n",
       "</style>\n",
       "<table border=\"1\" class=\"dataframe\">\n",
       "  <thead>\n",
       "    <tr style=\"text-align: right;\">\n",
       "      <th></th>\n",
       "      <th>pizza_id</th>\n",
       "      <th>order_id</th>\n",
       "      <th>pizza_name_id</th>\n",
       "      <th>quantity</th>\n",
       "      <th>order_date</th>\n",
       "      <th>order_time</th>\n",
       "      <th>unit_price</th>\n",
       "      <th>total_price</th>\n",
       "      <th>pizza_size</th>\n",
       "      <th>pizza_category</th>\n",
       "      <th>pizza_ingredients</th>\n",
       "      <th>pizza_name</th>\n",
       "    </tr>\n",
       "  </thead>\n",
       "  <tbody>\n",
       "    <tr>\n",
       "      <th>0</th>\n",
       "      <td>1</td>\n",
       "      <td>1</td>\n",
       "      <td>hawaiian_m</td>\n",
       "      <td>1</td>\n",
       "      <td>2015-01-01 00:00:00</td>\n",
       "      <td>11:38:36</td>\n",
       "      <td>13.25</td>\n",
       "      <td>13.25</td>\n",
       "      <td>M</td>\n",
       "      <td>Classic</td>\n",
       "      <td>Sliced Ham, Pineapple, Mozzarella Cheese</td>\n",
       "      <td>The Hawaiian Pizza</td>\n",
       "    </tr>\n",
       "    <tr>\n",
       "      <th>1</th>\n",
       "      <td>2</td>\n",
       "      <td>2</td>\n",
       "      <td>classic_dlx_m</td>\n",
       "      <td>1</td>\n",
       "      <td>2015-01-01 00:00:00</td>\n",
       "      <td>11:57:40</td>\n",
       "      <td>16.00</td>\n",
       "      <td>16.00</td>\n",
       "      <td>M</td>\n",
       "      <td>Classic</td>\n",
       "      <td>Pepperoni, Mushrooms, Red Onions, Red Peppers,...</td>\n",
       "      <td>The Classic Deluxe Pizza</td>\n",
       "    </tr>\n",
       "    <tr>\n",
       "      <th>2</th>\n",
       "      <td>3</td>\n",
       "      <td>2</td>\n",
       "      <td>five_cheese_l</td>\n",
       "      <td>1</td>\n",
       "      <td>2015-01-01 00:00:00</td>\n",
       "      <td>11:57:40</td>\n",
       "      <td>18.50</td>\n",
       "      <td>18.50</td>\n",
       "      <td>L</td>\n",
       "      <td>Veggie</td>\n",
       "      <td>Mozzarella Cheese, Provolone Cheese, Smoked Go...</td>\n",
       "      <td>The Five Cheese Pizza</td>\n",
       "    </tr>\n",
       "    <tr>\n",
       "      <th>3</th>\n",
       "      <td>4</td>\n",
       "      <td>2</td>\n",
       "      <td>ital_supr_l</td>\n",
       "      <td>1</td>\n",
       "      <td>2015-01-01 00:00:00</td>\n",
       "      <td>11:57:40</td>\n",
       "      <td>20.75</td>\n",
       "      <td>20.75</td>\n",
       "      <td>L</td>\n",
       "      <td>Supreme</td>\n",
       "      <td>Calabrese Salami, Capocollo, Tomatoes, Red Oni...</td>\n",
       "      <td>The Italian Supreme Pizza</td>\n",
       "    </tr>\n",
       "    <tr>\n",
       "      <th>4</th>\n",
       "      <td>5</td>\n",
       "      <td>2</td>\n",
       "      <td>mexicana_m</td>\n",
       "      <td>1</td>\n",
       "      <td>2015-01-01 00:00:00</td>\n",
       "      <td>11:57:40</td>\n",
       "      <td>16.00</td>\n",
       "      <td>16.00</td>\n",
       "      <td>M</td>\n",
       "      <td>Veggie</td>\n",
       "      <td>Tomatoes, Red Peppers, Jalapeno Peppers, Red O...</td>\n",
       "      <td>The Mexicana Pizza</td>\n",
       "    </tr>\n",
       "    <tr>\n",
       "      <th>...</th>\n",
       "      <td>...</td>\n",
       "      <td>...</td>\n",
       "      <td>...</td>\n",
       "      <td>...</td>\n",
       "      <td>...</td>\n",
       "      <td>...</td>\n",
       "      <td>...</td>\n",
       "      <td>...</td>\n",
       "      <td>...</td>\n",
       "      <td>...</td>\n",
       "      <td>...</td>\n",
       "      <td>...</td>\n",
       "    </tr>\n",
       "    <tr>\n",
       "      <th>48615</th>\n",
       "      <td>48616</td>\n",
       "      <td>21348</td>\n",
       "      <td>ckn_alfredo_m</td>\n",
       "      <td>1</td>\n",
       "      <td>31-12-2015</td>\n",
       "      <td>21:23:10</td>\n",
       "      <td>16.75</td>\n",
       "      <td>16.75</td>\n",
       "      <td>M</td>\n",
       "      <td>Chicken</td>\n",
       "      <td>Chicken, Red Onions, Red Peppers, Mushrooms, A...</td>\n",
       "      <td>The Chicken Alfredo Pizza</td>\n",
       "    </tr>\n",
       "    <tr>\n",
       "      <th>48616</th>\n",
       "      <td>48617</td>\n",
       "      <td>21348</td>\n",
       "      <td>four_cheese_l</td>\n",
       "      <td>1</td>\n",
       "      <td>31-12-2015</td>\n",
       "      <td>21:23:10</td>\n",
       "      <td>17.95</td>\n",
       "      <td>17.95</td>\n",
       "      <td>L</td>\n",
       "      <td>Veggie</td>\n",
       "      <td>Ricotta Cheese, Gorgonzola Piccante Cheese, Mo...</td>\n",
       "      <td>The Four Cheese Pizza</td>\n",
       "    </tr>\n",
       "    <tr>\n",
       "      <th>48617</th>\n",
       "      <td>48618</td>\n",
       "      <td>21348</td>\n",
       "      <td>napolitana_s</td>\n",
       "      <td>1</td>\n",
       "      <td>31-12-2015</td>\n",
       "      <td>21:23:10</td>\n",
       "      <td>12.00</td>\n",
       "      <td>12.00</td>\n",
       "      <td>S</td>\n",
       "      <td>Classic</td>\n",
       "      <td>Tomatoes, Anchovies, Green Olives, Red Onions,...</td>\n",
       "      <td>The Napolitana Pizza</td>\n",
       "    </tr>\n",
       "    <tr>\n",
       "      <th>48618</th>\n",
       "      <td>48619</td>\n",
       "      <td>21349</td>\n",
       "      <td>mexicana_l</td>\n",
       "      <td>1</td>\n",
       "      <td>31-12-2015</td>\n",
       "      <td>22:09:54</td>\n",
       "      <td>20.25</td>\n",
       "      <td>20.25</td>\n",
       "      <td>L</td>\n",
       "      <td>Veggie</td>\n",
       "      <td>Tomatoes, Red Peppers, Jalapeno Peppers, Red O...</td>\n",
       "      <td>The Mexicana Pizza</td>\n",
       "    </tr>\n",
       "    <tr>\n",
       "      <th>48619</th>\n",
       "      <td>48620</td>\n",
       "      <td>21350</td>\n",
       "      <td>bbq_ckn_s</td>\n",
       "      <td>1</td>\n",
       "      <td>31-12-2015</td>\n",
       "      <td>23:02:05</td>\n",
       "      <td>12.75</td>\n",
       "      <td>12.75</td>\n",
       "      <td>S</td>\n",
       "      <td>Chicken</td>\n",
       "      <td>Barbecued Chicken, Red Peppers, Green Peppers,...</td>\n",
       "      <td>The Barbecue Chicken Pizza</td>\n",
       "    </tr>\n",
       "  </tbody>\n",
       "</table>\n",
       "<p>48620 rows × 12 columns</p>\n",
       "</div>"
      ],
      "text/plain": [
       "       pizza_id  order_id  pizza_name_id  quantity           order_date  \\\n",
       "0             1         1     hawaiian_m         1  2015-01-01 00:00:00   \n",
       "1             2         2  classic_dlx_m         1  2015-01-01 00:00:00   \n",
       "2             3         2  five_cheese_l         1  2015-01-01 00:00:00   \n",
       "3             4         2    ital_supr_l         1  2015-01-01 00:00:00   \n",
       "4             5         2     mexicana_m         1  2015-01-01 00:00:00   \n",
       "...         ...       ...            ...       ...                  ...   \n",
       "48615     48616     21348  ckn_alfredo_m         1           31-12-2015   \n",
       "48616     48617     21348  four_cheese_l         1           31-12-2015   \n",
       "48617     48618     21348   napolitana_s         1           31-12-2015   \n",
       "48618     48619     21349     mexicana_l         1           31-12-2015   \n",
       "48619     48620     21350      bbq_ckn_s         1           31-12-2015   \n",
       "\n",
       "      order_time  unit_price  total_price pizza_size pizza_category  \\\n",
       "0       11:38:36       13.25        13.25          M        Classic   \n",
       "1       11:57:40       16.00        16.00          M        Classic   \n",
       "2       11:57:40       18.50        18.50          L         Veggie   \n",
       "3       11:57:40       20.75        20.75          L        Supreme   \n",
       "4       11:57:40       16.00        16.00          M         Veggie   \n",
       "...          ...         ...          ...        ...            ...   \n",
       "48615   21:23:10       16.75        16.75          M        Chicken   \n",
       "48616   21:23:10       17.95        17.95          L         Veggie   \n",
       "48617   21:23:10       12.00        12.00          S        Classic   \n",
       "48618   22:09:54       20.25        20.25          L         Veggie   \n",
       "48619   23:02:05       12.75        12.75          S        Chicken   \n",
       "\n",
       "                                       pizza_ingredients  \\\n",
       "0               Sliced Ham, Pineapple, Mozzarella Cheese   \n",
       "1      Pepperoni, Mushrooms, Red Onions, Red Peppers,...   \n",
       "2      Mozzarella Cheese, Provolone Cheese, Smoked Go...   \n",
       "3      Calabrese Salami, Capocollo, Tomatoes, Red Oni...   \n",
       "4      Tomatoes, Red Peppers, Jalapeno Peppers, Red O...   \n",
       "...                                                  ...   \n",
       "48615  Chicken, Red Onions, Red Peppers, Mushrooms, A...   \n",
       "48616  Ricotta Cheese, Gorgonzola Piccante Cheese, Mo...   \n",
       "48617  Tomatoes, Anchovies, Green Olives, Red Onions,...   \n",
       "48618  Tomatoes, Red Peppers, Jalapeno Peppers, Red O...   \n",
       "48619  Barbecued Chicken, Red Peppers, Green Peppers,...   \n",
       "\n",
       "                       pizza_name  \n",
       "0              The Hawaiian Pizza  \n",
       "1        The Classic Deluxe Pizza  \n",
       "2           The Five Cheese Pizza  \n",
       "3       The Italian Supreme Pizza  \n",
       "4              The Mexicana Pizza  \n",
       "...                           ...  \n",
       "48615   The Chicken Alfredo Pizza  \n",
       "48616       The Four Cheese Pizza  \n",
       "48617        The Napolitana Pizza  \n",
       "48618          The Mexicana Pizza  \n",
       "48619  The Barbecue Chicken Pizza  \n",
       "\n",
       "[48620 rows x 12 columns]"
      ]
     },
     "execution_count": 105,
     "metadata": {},
     "output_type": "execute_result"
    }
   ],
   "source": [
    "df = pd.read_excel(r\"C:\\Users\\Dell\\Downloads\\Pizza_Sale.xlsx\")\n",
    "df"
   ]
  },
  {
   "cell_type": "code",
   "execution_count": 106,
   "id": "26ebabb4-4c41-4251-9322-8072f64ea0a4",
   "metadata": {},
   "outputs": [],
   "source": [
    "# Dataset Overview"
   ]
  },
  {
   "cell_type": "code",
   "execution_count": 108,
   "id": "a3bee2c9-d98b-4021-b7db-03906b17f23a",
   "metadata": {
    "scrolled": true
   },
   "outputs": [
    {
     "name": "stdout",
     "output_type": "stream",
     "text": [
      "Dataset Overview:\n",
      "<class 'pandas.core.frame.DataFrame'>\n",
      "RangeIndex: 48620 entries, 0 to 48619\n",
      "Data columns (total 12 columns):\n",
      " #   Column             Non-Null Count  Dtype  \n",
      "---  ------             --------------  -----  \n",
      " 0   pizza_id           48620 non-null  int64  \n",
      " 1   order_id           48620 non-null  int64  \n",
      " 2   pizza_name_id      48604 non-null  object \n",
      " 3   quantity           48620 non-null  int64  \n",
      " 4   order_date         48620 non-null  object \n",
      " 5   order_time         48620 non-null  object \n",
      " 6   unit_price         48620 non-null  float64\n",
      " 7   total_price        48613 non-null  float64\n",
      " 8   pizza_size         48620 non-null  object \n",
      " 9   pizza_category     48597 non-null  object \n",
      " 10  pizza_ingredients  48607 non-null  object \n",
      " 11  pizza_name         48613 non-null  object \n",
      "dtypes: float64(2), int64(3), object(7)\n",
      "memory usage: 4.5+ MB\n",
      "None\n",
      "\n",
      "Summary Statistics for Numerical Columns:\n",
      "           pizza_id      order_id      quantity    unit_price   total_price\n",
      "count  48620.000000  48620.000000  48620.000000  48620.000000  48613.000000\n",
      "mean   24310.500000  10701.479761      1.019622     16.494132     16.821494\n",
      "std    14035.529381   6180.119770      0.143077      3.621789      4.437520\n",
      "min        1.000000      1.000000      1.000000      9.750000      9.750000\n",
      "25%    12155.750000   5337.000000      1.000000     12.750000     12.750000\n",
      "50%    24310.500000  10682.500000      1.000000     16.500000     16.500000\n",
      "75%    36465.250000  16100.000000      1.000000     20.250000     20.500000\n",
      "max    48620.000000  21350.000000      4.000000     35.950000     83.000000\n"
     ]
    }
   ],
   "source": [
    "print(\"Dataset Overview:\")\n",
    "print(df.info())  # Data types, non-null count\n",
    "print(\"\\nSummary Statistics for Numerical Columns:\")\n",
    "print(df.describe())  # Summary statistics for numerical columns"
   ]
  },
  {
   "cell_type": "markdown",
   "id": "2ab27cd9-0b44-486a-b4ad-ba5535a960d5",
   "metadata": {},
   "source": [
    "#Missing Data Analysis"
   ]
  },
  {
   "cell_type": "code",
   "execution_count": 110,
   "id": "bb7b1907-3717-4c57-996a-5fec45b6f3a4",
   "metadata": {},
   "outputs": [
    {
     "name": "stdout",
     "output_type": "stream",
     "text": [
      "\n",
      "Missing Data Count per Column:\n",
      "pizza_id              0\n",
      "order_id              0\n",
      "pizza_name_id        16\n",
      "quantity              0\n",
      "order_date            0\n",
      "order_time            0\n",
      "unit_price            0\n",
      "total_price           7\n",
      "pizza_size            0\n",
      "pizza_category       23\n",
      "pizza_ingredients    13\n",
      "pizza_name            7\n",
      "dtype: int64\n"
     ]
    }
   ],
   "source": [
    "# Count missing values per column\n",
    "print(\"\\nMissing Data Count per Column:\")\n",
    "missing_values = df.isnull().sum()\n",
    "print(missing_values)"
   ]
  },
  {
   "cell_type": "code",
   "execution_count": 111,
   "id": "c15cd7e4-3e0c-403e-94b0-a0e67729dfd9",
   "metadata": {},
   "outputs": [
    {
     "name": "stdout",
     "output_type": "stream",
     "text": [
      "\n",
      "Rows with Missing Data:\n",
      "     pizza_id  order_id  pizza_name_id  quantity           order_date  \\\n",
      "36         37        15            NaN         1  2015-01-01 00:00:00   \n",
      "37         38        15            NaN         1  2015-01-01 00:00:00   \n",
      "38         39        15            NaN         1  2015-01-01 00:00:00   \n",
      "39         40        16            NaN         1  2015-01-01 00:00:00   \n",
      "40         41        16            NaN         1  2015-01-01 00:00:00   \n",
      "..        ...       ...            ...       ...                  ...   \n",
      "783       784       342     sicilian_l         1  2015-06-01 00:00:00   \n",
      "784       785       342   southw_ckn_l         1  2015-06-01 00:00:00   \n",
      "785       786       343  five_cheese_l         1  2015-06-01 00:00:00   \n",
      "786       787       343  four_cheese_m         1  2015-06-01 00:00:00   \n",
      "787       788       344  ital_cpcllo_m         1  2015-06-01 00:00:00   \n",
      "\n",
      "    order_time  unit_price  total_price pizza_size pizza_category  \\\n",
      "36    13:33:00       18.50        18.50          L         Veggie   \n",
      "37    13:33:00       20.75        20.75          L        Supreme   \n",
      "38    13:33:00       12.00        12.00          S        Classic   \n",
      "39    13:34:07       17.95        17.95          L         Veggie   \n",
      "40    13:34:07       12.00        12.00          S        Classic   \n",
      "..         ...         ...          ...        ...            ...   \n",
      "783   15:44:12       20.25          NaN          L        Supreme   \n",
      "784   15:44:12       20.75          NaN          L        Chicken   \n",
      "785   15:45:37       18.50          NaN          L         Veggie   \n",
      "786   15:45:37       14.75          NaN          M         Veggie   \n",
      "787   16:01:11       16.00          NaN          M        Classic   \n",
      "\n",
      "                                     pizza_ingredients  \\\n",
      "36   Mozzarella Cheese, Provolone Cheese, Smoked Go...   \n",
      "37   Soppressata Salami, Fontina Cheese, Mozzarella...   \n",
      "38   Kalamata Olives, Feta Cheese, Tomatoes, Garlic...   \n",
      "39   Ricotta Cheese, Gorgonzola Piccante Cheese, Mo...   \n",
      "40   Tomatoes, Anchovies, Green Olives, Red Onions,...   \n",
      "..                                                 ...   \n",
      "783  Coarse Sicilian Salami, Tomatoes, Green Olives...   \n",
      "784  Chicken, Tomatoes, Red Peppers, Red Onions, Ja...   \n",
      "785  Mozzarella Cheese, Provolone Cheese, Smoked Go...   \n",
      "786  Ricotta Cheese, Gorgonzola Piccante Cheese, Mo...   \n",
      "787  Capocollo, Red Peppers, Tomatoes, Goat Cheese,...   \n",
      "\n",
      "                      pizza_name  \n",
      "36         The Five Cheese Pizza  \n",
      "37         The Soppressata Pizza  \n",
      "38               The Greek Pizza  \n",
      "39         The Four Cheese Pizza  \n",
      "40          The Napolitana Pizza  \n",
      "..                           ...  \n",
      "783           The Sicilian Pizza  \n",
      "784  The Southwest Chicken Pizza  \n",
      "785        The Five Cheese Pizza  \n",
      "786        The Four Cheese Pizza  \n",
      "787  The Italian Capocollo Pizza  \n",
      "\n",
      "[66 rows x 12 columns]\n"
     ]
    }
   ],
   "source": [
    "# Display rows that have missing data\n",
    "print(\"\\nRows with Missing Data:\")\n",
    "print(df[df.isnull().any(axis=1)])  # Display rows with missing values\n"
   ]
  },
  {
   "cell_type": "code",
   "execution_count": 112,
   "id": "c57d13b8-0271-42eb-828e-60c2335f9c53",
   "metadata": {},
   "outputs": [],
   "source": [
    "# Unique Value Counts per Column\n",
    "# ===============================\n",
    "columns_of_interest = [\n",
    "    'pizza_id', 'order_id', 'pizza_name_id', 'quantity', 'order_date', \n",
    "    'order_time', 'unit_price', 'total_price', 'pizza_size', \n",
    "    'pizza_category', 'pizza_ingredients'\n",
    "]"
   ]
  },
  {
   "cell_type": "code",
   "execution_count": 114,
   "id": "645e624e-4439-4957-9262-2915f8967af6",
   "metadata": {},
   "outputs": [
    {
     "name": "stdout",
     "output_type": "stream",
     "text": [
      "\n",
      "Unique Values Count per Column:\n",
      "pizza_id: 48620 unique values\n",
      "order_id: 21350 unique values\n",
      "pizza_name_id: 91 unique values\n",
      "quantity: 4 unique values\n",
      "order_date: 358 unique values\n",
      "order_time: 16382 unique values\n",
      "unit_price: 25 unique values\n",
      "total_price: 56 unique values\n",
      "pizza_size: 5 unique values\n",
      "pizza_category: 4 unique values\n",
      "pizza_ingredients: 32 unique values\n"
     ]
    }
   ],
   "source": [
    "# Print the number of unique values in each column\n",
    "print(\"\\nUnique Values Count per Column:\")\n",
    "for col in columns_of_interest:\n",
    "    unique_count = df[col].nunique()\n",
    "    print(f\"{col}: {unique_count} unique values\")"
   ]
  },
  {
   "cell_type": "code",
   "execution_count": 115,
   "id": "6ed0a126-ce63-4851-ab48-43e173c86e7a",
   "metadata": {},
   "outputs": [
    {
     "name": "stdout",
     "output_type": "stream",
     "text": [
      "\n",
      "Unique Values for Each Column:\n",
      "\n",
      "Unique values in pizza_id:\n",
      "[    1     2     3 ... 48618 48619 48620]\n",
      "\n",
      "Unique values in order_id:\n",
      "[    1     2     3 ... 21348 21349 21350]\n",
      "\n",
      "Unique values in pizza_name_id:\n",
      "['hawaiian_m' 'classic_dlx_m' 'five_cheese_l' 'ital_supr_l' 'mexicana_m'\n",
      " 'thai_ckn_l' 'ital_supr_m' 'prsc_argla_l' 'bbq_ckn_s' 'the_greek_s'\n",
      " 'spinach_supr_s' 'classic_dlx_s' 'green_garden_s' 'ital_cpcllo_l'\n",
      " 'ital_supr_s' 'mexicana_s' 'spicy_ital_l' 'spin_pesto_l' 'veggie_veg_s'\n",
      " 'mexicana_l' 'southw_ckn_l' 'bbq_ckn_l' 'cali_ckn_l' 'cali_ckn_m'\n",
      " 'pepperoni_l' 'cali_ckn_s' 'ckn_pesto_l' 'big_meat_s' nan 'calabrese_m'\n",
      " 'four_cheese_m' 'ital_veggie_s' 'mediterraneo_m' 'peppr_salami_s'\n",
      " 'spinach_fet_l' 'napolitana_l' 'sicilian_l' 'ital_cpcllo_m'\n",
      " 'southw_ckn_s' 'bbq_ckn_m' 'pepperoni_m' 'prsc_argla_s' 'sicilian_m'\n",
      " 'veggie_veg_l' 'ckn_alfredo_s' 'pepperoni_s' 'green_garden_l'\n",
      " 'green_garden_m' 'pep_msh_pep_l' 'hawaiian_s' 'four_cheese_l'\n",
      " 'peppr_salami_m' 'ckn_alfredo_m' 'peppr_salami_l' 'spin_pesto_s'\n",
      " 'thai_ckn_m' 'classic_dlx_l' 'ckn_pesto_m' 'the_greek_xl' 'hawaiian_l'\n",
      " 'pep_msh_pep_s' 'spinach_supr_m' 'prsc_argla_m' 'mediterraneo_l'\n",
      " 'southw_ckn_m' 'pep_msh_pep_m' 'sicilian_s' 'spicy_ital_s'\n",
      " 'soppressata_l' 'thai_ckn_s' 'spinach_supr_l' 'ital_veggie_l'\n",
      " 'veggie_veg_m' 'the_greek_m' 'ckn_pesto_s' 'spinach_fet_s' 'napolitana_s'\n",
      " 'spicy_ital_m' 'ital_veggie_m' 'ital_cpcllo_s' 'mediterraneo_s'\n",
      " 'spinach_fet_m' 'napolitana_m' 'spin_pesto_m' 'brie_carre_s'\n",
      " 'ckn_alfredo_l' 'calabrese_s' 'the_greek_l' 'soppressata_m'\n",
      " 'soppressata_s' 'calabrese_l' 'the_greek_xxl']\n",
      "\n",
      "Unique values in quantity:\n",
      "[1 2 3 4]\n",
      "\n",
      "Unique values in order_date:\n",
      "[datetime.datetime(2015, 1, 1, 0, 0) datetime.datetime(2015, 2, 1, 0, 0)\n",
      " datetime.datetime(2015, 3, 1, 0, 0) datetime.datetime(2015, 4, 1, 0, 0)\n",
      " datetime.datetime(2015, 5, 1, 0, 0) datetime.datetime(2015, 6, 1, 0, 0)\n",
      " datetime.datetime(2015, 7, 1, 0, 0) datetime.datetime(2015, 8, 1, 0, 0)\n",
      " datetime.datetime(2015, 9, 1, 0, 0) datetime.datetime(2015, 10, 1, 0, 0)\n",
      " datetime.datetime(2015, 11, 1, 0, 0) datetime.datetime(2015, 12, 1, 0, 0)\n",
      " '13-01-2015' '14-01-2015' '15-01-2015' '16-01-2015' '17-01-2015'\n",
      " '18-01-2015' '19-01-2015' '20-01-2015' '21-01-2015' '22-01-2015'\n",
      " '23-01-2015' '24-01-2015' '25-01-2015' '26-01-2015' '27-01-2015'\n",
      " '28-01-2015' '29-01-2015' '30-01-2015' '31-01-2015'\n",
      " datetime.datetime(2015, 1, 2, 0, 0) datetime.datetime(2015, 2, 2, 0, 0)\n",
      " datetime.datetime(2015, 3, 2, 0, 0) datetime.datetime(2015, 4, 2, 0, 0)\n",
      " datetime.datetime(2015, 5, 2, 0, 0) datetime.datetime(2015, 6, 2, 0, 0)\n",
      " datetime.datetime(2015, 7, 2, 0, 0) datetime.datetime(2015, 8, 2, 0, 0)\n",
      " datetime.datetime(2015, 9, 2, 0, 0) datetime.datetime(2015, 10, 2, 0, 0)\n",
      " datetime.datetime(2015, 11, 2, 0, 0) datetime.datetime(2015, 12, 2, 0, 0)\n",
      " '13-02-2015' '14-02-2015' '15-02-2015' '16-02-2015' '17-02-2015'\n",
      " '18-02-2015' '19-02-2015' '20-02-2015' '21-02-2015' '22-02-2015'\n",
      " '23-02-2015' '24-02-2015' '25-02-2015' '26-02-2015' '27-02-2015'\n",
      " '28-02-2015' datetime.datetime(2015, 1, 3, 0, 0)\n",
      " datetime.datetime(2015, 2, 3, 0, 0) datetime.datetime(2015, 3, 3, 0, 0)\n",
      " datetime.datetime(2015, 4, 3, 0, 0) datetime.datetime(2015, 5, 3, 0, 0)\n",
      " datetime.datetime(2015, 6, 3, 0, 0) datetime.datetime(2015, 7, 3, 0, 0)\n",
      " datetime.datetime(2015, 8, 3, 0, 0) datetime.datetime(2015, 9, 3, 0, 0)\n",
      " datetime.datetime(2015, 10, 3, 0, 0) datetime.datetime(2015, 11, 3, 0, 0)\n",
      " datetime.datetime(2015, 12, 3, 0, 0) '13-03-2015' '14-03-2015'\n",
      " '15-03-2015' '16-03-2015' '17-03-2015' '18-03-2015' '19-03-2015'\n",
      " '20-03-2015' '21-03-2015' '22-03-2015' '23-03-2015' '24-03-2015'\n",
      " '25-03-2015' '26-03-2015' '27-03-2015' '28-03-2015' '29-03-2015'\n",
      " '30-03-2015' '31-03-2015' datetime.datetime(2015, 1, 4, 0, 0)\n",
      " datetime.datetime(2015, 2, 4, 0, 0) datetime.datetime(2015, 3, 4, 0, 0)\n",
      " datetime.datetime(2015, 4, 4, 0, 0) datetime.datetime(2015, 5, 4, 0, 0)\n",
      " datetime.datetime(2015, 6, 4, 0, 0) datetime.datetime(2015, 7, 4, 0, 0)\n",
      " datetime.datetime(2015, 8, 4, 0, 0) datetime.datetime(2015, 9, 4, 0, 0)\n",
      " datetime.datetime(2015, 10, 4, 0, 0) datetime.datetime(2015, 11, 4, 0, 0)\n",
      " datetime.datetime(2015, 12, 4, 0, 0) '13-04-2015' '14-04-2015'\n",
      " '15-04-2015' '16-04-2015' '17-04-2015' '18-04-2015' '19-04-2015'\n",
      " '20-04-2015' '21-04-2015' '22-04-2015' '23-04-2015' '24-04-2015'\n",
      " '25-04-2015' '26-04-2015' '27-04-2015' '28-04-2015' '29-04-2015'\n",
      " '30-04-2015' datetime.datetime(2015, 1, 5, 0, 0)\n",
      " datetime.datetime(2015, 2, 5, 0, 0) datetime.datetime(2015, 3, 5, 0, 0)\n",
      " datetime.datetime(2015, 4, 5, 0, 0) datetime.datetime(2015, 5, 5, 0, 0)\n",
      " datetime.datetime(2015, 6, 5, 0, 0) datetime.datetime(2015, 7, 5, 0, 0)\n",
      " datetime.datetime(2015, 8, 5, 0, 0) datetime.datetime(2015, 9, 5, 0, 0)\n",
      " datetime.datetime(2015, 10, 5, 0, 0) datetime.datetime(2015, 11, 5, 0, 0)\n",
      " datetime.datetime(2015, 12, 5, 0, 0) '13-05-2015' '14-05-2015'\n",
      " '15-05-2015' '16-05-2015' '17-05-2015' '18-05-2015' '19-05-2015'\n",
      " '20-05-2015' '21-05-2015' '22-05-2015' '23-05-2015' '24-05-2015'\n",
      " '25-05-2015' '26-05-2015' '27-05-2015' '28-05-2015' '29-05-2015'\n",
      " '30-05-2015' '31-05-2015' datetime.datetime(2015, 1, 6, 0, 0)\n",
      " datetime.datetime(2015, 2, 6, 0, 0) datetime.datetime(2015, 3, 6, 0, 0)\n",
      " datetime.datetime(2015, 4, 6, 0, 0) datetime.datetime(2015, 5, 6, 0, 0)\n",
      " datetime.datetime(2015, 6, 6, 0, 0) datetime.datetime(2015, 7, 6, 0, 0)\n",
      " datetime.datetime(2015, 8, 6, 0, 0) datetime.datetime(2015, 9, 6, 0, 0)\n",
      " datetime.datetime(2015, 10, 6, 0, 0) datetime.datetime(2015, 11, 6, 0, 0)\n",
      " datetime.datetime(2015, 12, 6, 0, 0) '13-06-2015' '14-06-2015'\n",
      " '15-06-2015' '16-06-2015' '17-06-2015' '18-06-2015' '19-06-2015'\n",
      " '20-06-2015' '21-06-2015' '22-06-2015' '23-06-2015' '24-06-2015'\n",
      " '25-06-2015' '26-06-2015' '27-06-2015' '28-06-2015' '29-06-2015'\n",
      " '30-06-2015' datetime.datetime(2015, 1, 7, 0, 0)\n",
      " datetime.datetime(2015, 2, 7, 0, 0) datetime.datetime(2015, 3, 7, 0, 0)\n",
      " datetime.datetime(2015, 4, 7, 0, 0) datetime.datetime(2015, 5, 7, 0, 0)\n",
      " datetime.datetime(2015, 6, 7, 0, 0) datetime.datetime(2015, 7, 7, 0, 0)\n",
      " datetime.datetime(2015, 8, 7, 0, 0) datetime.datetime(2015, 9, 7, 0, 0)\n",
      " datetime.datetime(2015, 10, 7, 0, 0) datetime.datetime(2015, 11, 7, 0, 0)\n",
      " datetime.datetime(2015, 12, 7, 0, 0) '13-07-2015' '14-07-2015'\n",
      " '15-07-2015' '16-07-2015' '17-07-2015' '18-07-2015' '19-07-2015'\n",
      " '20-07-2015' '21-07-2015' '22-07-2015' '23-07-2015' '24-07-2015'\n",
      " '25-07-2015' '26-07-2015' '27-07-2015' '28-07-2015' '29-07-2015'\n",
      " '30-07-2015' '31-07-2015' datetime.datetime(2015, 1, 8, 0, 0)\n",
      " datetime.datetime(2015, 2, 8, 0, 0) datetime.datetime(2015, 3, 8, 0, 0)\n",
      " datetime.datetime(2015, 4, 8, 0, 0) datetime.datetime(2015, 5, 8, 0, 0)\n",
      " datetime.datetime(2015, 6, 8, 0, 0) datetime.datetime(2015, 7, 8, 0, 0)\n",
      " datetime.datetime(2015, 8, 8, 0, 0) datetime.datetime(2015, 9, 8, 0, 0)\n",
      " datetime.datetime(2015, 10, 8, 0, 0) datetime.datetime(2015, 11, 8, 0, 0)\n",
      " datetime.datetime(2015, 12, 8, 0, 0) '13-08-2015' '14-08-2015'\n",
      " '15-08-2015' '16-08-2015' '17-08-2015' '18-08-2015' '19-08-2015'\n",
      " '20-08-2015' '21-08-2015' '22-08-2015' '23-08-2015' '24-08-2015'\n",
      " '25-08-2015' '26-08-2015' '27-08-2015' '28-08-2015' '29-08-2015'\n",
      " '30-08-2015' '31-08-2015' datetime.datetime(2015, 1, 9, 0, 0)\n",
      " datetime.datetime(2015, 2, 9, 0, 0) datetime.datetime(2015, 3, 9, 0, 0)\n",
      " datetime.datetime(2015, 4, 9, 0, 0) datetime.datetime(2015, 5, 9, 0, 0)\n",
      " datetime.datetime(2015, 6, 9, 0, 0) datetime.datetime(2015, 7, 9, 0, 0)\n",
      " datetime.datetime(2015, 8, 9, 0, 0) datetime.datetime(2015, 9, 9, 0, 0)\n",
      " datetime.datetime(2015, 10, 9, 0, 0) datetime.datetime(2015, 11, 9, 0, 0)\n",
      " datetime.datetime(2015, 12, 9, 0, 0) '13-09-2015' '14-09-2015'\n",
      " '15-09-2015' '16-09-2015' '17-09-2015' '18-09-2015' '19-09-2015'\n",
      " '20-09-2015' '21-09-2015' '22-09-2015' '23-09-2015' '26-09-2015'\n",
      " '27-09-2015' '28-09-2015' '29-09-2015' '30-09-2015'\n",
      " datetime.datetime(2015, 1, 10, 0, 0) datetime.datetime(2015, 2, 10, 0, 0)\n",
      " datetime.datetime(2015, 3, 10, 0, 0) datetime.datetime(2015, 4, 10, 0, 0)\n",
      " datetime.datetime(2015, 6, 10, 0, 0) datetime.datetime(2015, 7, 10, 0, 0)\n",
      " datetime.datetime(2015, 8, 10, 0, 0) datetime.datetime(2015, 9, 10, 0, 0)\n",
      " datetime.datetime(2015, 10, 10, 0, 0)\n",
      " datetime.datetime(2015, 11, 10, 0, 0) '13-10-2015' '14-10-2015'\n",
      " '15-10-2015' '16-10-2015' '17-10-2015' '18-10-2015' '20-10-2015'\n",
      " '21-10-2015' '22-10-2015' '23-10-2015' '24-10-2015' '25-10-2015'\n",
      " '27-10-2015' '28-10-2015' '29-10-2015' '30-10-2015' '31-10-2015'\n",
      " datetime.datetime(2015, 1, 11, 0, 0) datetime.datetime(2015, 2, 11, 0, 0)\n",
      " datetime.datetime(2015, 3, 11, 0, 0) datetime.datetime(2015, 4, 11, 0, 0)\n",
      " datetime.datetime(2015, 5, 11, 0, 0) datetime.datetime(2015, 6, 11, 0, 0)\n",
      " datetime.datetime(2015, 7, 11, 0, 0) datetime.datetime(2015, 8, 11, 0, 0)\n",
      " datetime.datetime(2015, 9, 11, 0, 0)\n",
      " datetime.datetime(2015, 10, 11, 0, 0)\n",
      " datetime.datetime(2015, 11, 11, 0, 0)\n",
      " datetime.datetime(2015, 12, 11, 0, 0) '13-11-2015' '14-11-2015'\n",
      " '15-11-2015' '16-11-2015' '17-11-2015' '18-11-2015' '19-11-2015'\n",
      " '20-11-2015' '21-11-2015' '22-11-2015' '23-11-2015' '24-11-2015'\n",
      " '25-11-2015' '26-11-2015' '27-11-2015' '28-11-2015' '29-11-2015'\n",
      " '30-11-2015' datetime.datetime(2015, 1, 12, 0, 0)\n",
      " datetime.datetime(2015, 2, 12, 0, 0) datetime.datetime(2015, 3, 12, 0, 0)\n",
      " datetime.datetime(2015, 4, 12, 0, 0) datetime.datetime(2015, 5, 12, 0, 0)\n",
      " datetime.datetime(2015, 6, 12, 0, 0) datetime.datetime(2015, 7, 12, 0, 0)\n",
      " datetime.datetime(2015, 8, 12, 0, 0) datetime.datetime(2015, 9, 12, 0, 0)\n",
      " datetime.datetime(2015, 10, 12, 0, 0)\n",
      " datetime.datetime(2015, 11, 12, 0, 0)\n",
      " datetime.datetime(2015, 12, 12, 0, 0) '13-12-2015' '14-12-2015'\n",
      " '15-12-2015' '16-12-2015' '17-12-2015' '18-12-2015' '19-12-2015'\n",
      " '20-12-2015' '21-12-2015' '22-12-2015' '23-12-2015' '24-12-2015'\n",
      " '26-12-2015' '27-12-2015' '28-12-2015' '29-12-2015' '30-12-2015'\n",
      " '31-12-2015']\n",
      "\n",
      "Unique values in order_time:\n",
      "[datetime.time(11, 38, 36) datetime.time(11, 57, 40)\n",
      " datetime.time(12, 12, 28) ... datetime.time(20, 51, 7)\n",
      " datetime.time(21, 14, 37) datetime.time(22, 9, 54)]\n",
      "\n",
      "Unique values in unit_price:\n",
      "[13.25 16.   18.5  20.75 16.5  12.75 12.   12.5  20.5  20.25 16.75 15.25\n",
      " 17.95 16.25 14.75  9.75 17.5  10.5  25.5  11.   14.5  12.25 21.   23.65\n",
      " 35.95]\n",
      "\n",
      "Unique values in total_price:\n",
      "[13.25 16.   18.5  20.75 16.5  12.75 12.   12.5  20.5  20.25 16.75 15.25\n",
      " 17.95 16.25 14.75 32.    9.75 17.5  10.5  25.5  11.   14.5  12.25 21.\n",
      " 62.25 41.5  50.25 23.65 24.   33.5  35.9    nan 25.   19.5  37.5  37.\n",
      " 41.   33.   40.5  24.5  47.3  22.   35.95 29.   29.5  26.5  48.75 32.5\n",
      " 30.5  48.   51.   36.   35.   83.   61.5  49.5  55.5 ]\n",
      "\n",
      "Unique values in pizza_size:\n",
      "['M' 'L' 'S' 'XL' 'XXL']\n",
      "\n",
      "Unique values in pizza_category:\n",
      "['Classic' 'Veggie' 'Supreme' 'Chicken' nan]\n",
      "\n",
      "Unique values in pizza_ingredients:\n",
      "['Sliced Ham, Pineapple, Mozzarella Cheese'\n",
      " 'Pepperoni, Mushrooms, Red Onions, Red Peppers, Bacon'\n",
      " 'Mozzarella Cheese, Provolone Cheese, Smoked Gouda Cheese, Romano Cheese, Blue Cheese, Garlic'\n",
      " 'Calabrese Salami, Capocollo, Tomatoes, Red Onions, Green Olives, Garlic'\n",
      " 'Tomatoes, Red Peppers, Jalapeno Peppers, Red Onions, Cilantro, Corn, Chipotle Sauce, Garlic'\n",
      " 'Chicken, Pineapple, Tomatoes, Red Peppers, Thai Sweet Chilli Sauce'\n",
      " 'Prosciutto di San Daniele, Arugula, Mozzarella Cheese'\n",
      " 'Barbecued Chicken, Red Peppers, Green Peppers, Tomatoes, Red Onions, Barbecue Sauce'\n",
      " 'Kalamata Olives, Feta Cheese, Tomatoes, Garlic, Beef Chuck Roast, Red Onions'\n",
      " 'Spinach, Red Onions, Pepperoni, Tomatoes, Artichokes, Kalamata Olives, Garlic, Asiago Cheese'\n",
      " 'Spinach, Mushrooms, Tomatoes, Green Olives, Feta Cheese'\n",
      " 'Capocollo, Red Peppers, Tomatoes, Goat Cheese, Garlic, Oregano'\n",
      " 'Capocollo, Tomatoes, Goat Cheese, Artichokes, Peperoncini verdi, Garlic'\n",
      " 'Spinach, Artichokes, Tomatoes, Sun-dried Tomatoes, Garlic, Pesto Sauce'\n",
      " 'Mushrooms, Tomatoes, Red Peppers, Green Peppers, Red Onions, Zucchini, Spinach, Garlic'\n",
      " 'Chicken, Tomatoes, Red Peppers, Red Onions, Jalapeno Peppers, Corn, Cilantro, Chipotle Sauce'\n",
      " 'Chicken, Artichoke, Spinach, Garlic, Jalapeno Peppers, Fontina Cheese, Gouda Cheese'\n",
      " 'Mozzarella Cheese, Pepperoni'\n",
      " 'Chicken, Tomatoes, Red Peppers, Spinach, Garlic, Pesto Sauce'\n",
      " 'Bacon, Pepperoni, Italian Sausage, Chorizo Sausage'\n",
      " 'Soppressata Salami, Fontina Cheese, Mozzarella Cheese, Mushrooms, Garlic'\n",
      " 'Ricotta Cheese, Gorgonzola Piccante Cheese, Mozzarella Cheese, Parmigiano Reggiano Cheese, Garlic'\n",
      " 'Tomatoes, Anchovies, Green Olives, Red Onions, Garlic'\n",
      " '?duja Salami, Pancetta, Tomatoes, Red Onions, Friggitello Peppers, Garlic'\n",
      " 'Eggplant, Artichokes, Tomatoes, Zucchini, Red Peppers, Garlic, Pesto Sauce'\n",
      " 'Spinach, Artichokes, Kalamata Olives, Sun-dried Tomatoes, Feta Cheese, Plum Tomatoes, Red Onions'\n",
      " 'Genoa Salami, Capocollo, Pepperoni, Tomatoes, Asiago Cheese, Garlic'\n",
      " 'Spinach, Mushrooms, Red Onions, Feta Cheese, Garlic'\n",
      " 'Coarse Sicilian Salami, Tomatoes, Green Olives, Luganega Sausage, Onions, Garlic'\n",
      " 'Chicken, Red Onions, Red Peppers, Mushrooms, Asiago Cheese, Alfredo Sauce'\n",
      " 'Pepperoni, Mushrooms, Green Peppers'\n",
      " 'Brie Carre Cheese, Prosciutto, Caramelized Onions, Pears, Thyme, Garlic'\n",
      " nan]\n"
     ]
    }
   ],
   "source": [
    "# Display the unique values for each column\n",
    "print(\"\\nUnique Values for Each Column:\")\n",
    "for col in columns_of_interest:\n",
    "    print(f\"\\nUnique values in {col}:\")\n",
    "    print(df[col].unique())"
   ]
  },
  {
   "cell_type": "code",
   "execution_count": 116,
   "id": "86de64e8-808c-49ae-85b6-d43690fd6e56",
   "metadata": {},
   "outputs": [
    {
     "name": "stdout",
     "output_type": "stream",
     "text": [
      "\n",
      "Number of Duplicate Rows: 0\n",
      "Empty DataFrame\n",
      "Columns: [pizza_id, order_id, pizza_name_id, quantity, order_date, order_time, unit_price, total_price, pizza_size, pizza_category, pizza_ingredients, pizza_name]\n",
      "Index: []\n"
     ]
    }
   ],
   "source": [
    "# Duplicate Records\n",
    "# ===============================\n",
    "# Check for duplicate rows\n",
    "duplicate_rows = df[df.duplicated()]\n",
    "print(f\"\\nNumber of Duplicate Rows: {len(duplicate_rows)}\")\n",
    "print(duplicate_rows)"
   ]
  },
  {
   "cell_type": "code",
   "execution_count": 117,
   "id": "68de9ed4-ff0e-4f36-92b7-8345950dc345",
   "metadata": {},
   "outputs": [],
   "source": [
    "# Column-Wise Analysis (Distributions with Explanations)\n",
    "# ===============================\n",
    "# Plot distributions for categorical variables\n",
    "categorical_columns = ['pizza_id', 'pizza_name_id', 'pizza_size', 'pizza_category']\n"
   ]
  },
  {
   "cell_type": "code",
   "execution_count": 122,
   "id": "ef2b054a-1fbf-404b-a004-58a363b19f33",
   "metadata": {},
   "outputs": [
    {
     "name": "stdout",
     "output_type": "stream",
     "text": [
      "\n",
      "Distribution analysis for pizza_id:\n",
      " - There are 48620 unique values in pizza_id.\n",
      " - The most frequent value is '1' with 1 occurrences.\n",
      " - The distribution is balanced.\n"
     ]
    }
   ],
   "source": [
    "# Verbal explanation\n",
    "print(f\"\\nDistribution analysis for {col}:\")\n",
    "print(f\" - There are {df[col].nunique()} unique values in {col}.\")\n",
    "print(f\" - The most frequent value is '{df[col].mode()[0]}' with {df[col].value_counts().iloc[0]} occurrences.\")\n",
    "print(f\" - The distribution is {'skewed' if df[col].value_counts().iloc[0] / len(df) > 0.5 else 'balanced'}.\")"
   ]
  },
  {
   "cell_type": "code",
   "execution_count": 124,
   "id": "af1bc48e-7a23-47d2-94a0-d4a17728f4fa",
   "metadata": {},
   "outputs": [
    {
     "data": {
      "image/png": "[encoded data removed]",
      "text/plain": [
       "<Figure size 1000x600 with 1 Axes>"
      ]
     },
     "metadata": {},
     "output_type": "display_data"
    },
    {
     "data": {
      "image/png": "[encoded data removed]",
      "text/plain": [
       "<Figure size 1000x600 with 1 Axes>"
      ]
     },
     "metadata": {},
     "output_type": "display_data"
    },
    {
     "data": {
      "image/png": "[encoded data removed]",
      "text/plain": [
       "<Figure size 1000x600 with 1 Axes>"
      ]
     },
     "metadata": {},
     "output_type": "display_data"
    }
   ],
   "source": [
    "# Plot distributions for numerical variables\n",
    "numerical_columns = ['quantity', 'unit_price', 'total_price']\n",
    "\n",
    "for col in numerical_columns:\n",
    "    plt.figure(figsize=(10, 6))\n",
    "    sns.histplot(df[col], bins=30, kde=True)\n",
    "    plt.title(f\"Distribution of {col}\")\n",
    "    plt.show()"
   ]
  },
  {
   "cell_type": "code",
   "execution_count": 125,
   "id": "8a24b9a3-db23-4530-86bf-c05a676497b9",
   "metadata": {},
   "outputs": [
    {
     "name": "stdout",
     "output_type": "stream",
     "text": [
      "\n",
      "Distribution analysis for total_price:\n",
      " - Mean: 16.821494250509122\n",
      " - Median: 16.5\n",
      " - The distribution has a skew. Skewness: 1.7330090941245695.\n"
     ]
    }
   ],
   "source": [
    "# Verbal explanation\n",
    "print(f\"\\nDistribution analysis for {col}:\")\n",
    "print(f\" - Mean: {df[col].mean()}\")\n",
    "print(f\" - Median: {df[col].median()}\")\n",
    "print(f\" - The distribution {'has a skew' if abs(df[col].skew()) > 0.5 else 'is fairly normal'}. Skewness: {df[col].skew()}.\")"
   ]
  },
  {
   "cell_type": "code",
   "execution_count": 126,
   "id": "5e3a4f99-fa68-4732-b5a9-7569311449cd",
   "metadata": {},
   "outputs": [
    {
     "name": "stdout",
     "output_type": "stream",
     "text": [
      "\n",
      "Correlation Matrix:\n",
      "              quantity  unit_price  total_price\n",
      "quantity     1.000000    0.007142     0.541950\n",
      "unit_price   0.007142    1.000000     0.836072\n",
      "total_price  0.541950    0.836072     1.000000\n"
     ]
    }
   ],
   "source": [
    "# Correlation Analysis with Explanations\n",
    "# ===============================\n",
    "# Correlation matrix for numerical variables\n",
    "corr_matrix = df[numerical_columns].corr()\n",
    "print(\"\\nCorrelation Matrix:\\n\", corr_matrix)\n"
   ]
  },
  {
   "cell_type": "code",
   "execution_count": 127,
   "id": "a2410579-63a0-4de6-a75d-3d5c4091d649",
   "metadata": {},
   "outputs": [
    {
     "data": {
      "image/png": "[encoded data removed]",
      "text/plain": [
       "<Figure size 1000x600 with 2 Axes>"
      ]
     },
     "metadata": {},
     "output_type": "display_data"
    }
   ],
   "source": [
    "plt.figure(figsize=(10, 6))\n",
    "sns.heatmap(corr_matrix, annot=True, cmap='coolwarm', linewidths=0.5)\n",
    "plt.title(\"Correlation Heatmap for Numerical Variables\")\n",
    "plt.show()"
   ]
  },
  {
   "cell_type": "code",
   "execution_count": 128,
   "id": "be27c685-1d87-483b-980e-e8a542087185",
   "metadata": {},
   "outputs": [
    {
     "name": "stdout",
     "output_type": "stream",
     "text": [
      "\n",
      "Correlation Analysis:\n",
      " - 'quantity' has no strong correlations with other numerical variables.\n",
      " - 'unit_price' is highly correlated with total_price (correlation > 0.7).\n",
      " - 'total_price' is highly correlated with unit_price (correlation > 0.7).\n"
     ]
    }
   ],
   "source": [
    "# Verbal explanation of correlations\n",
    "print(\"\\nCorrelation Analysis:\")\n",
    "for col in numerical_columns:\n",
    "    high_corr = corr_matrix[col][corr_matrix[col] > 0.7].drop(col)\n",
    "    if len(high_corr) > 0:\n",
    "        print(f\" - '{col}' is highly correlated with {', '.join(high_corr.index)} (correlation > 0.7).\")\n",
    "    else:\n",
    "        print(f\" - '{col}' has no strong correlations with other numerical variables.\")"
   ]
  },
  {
   "cell_type": "code",
   "execution_count": 130,
   "id": "a11dbf11-7e8e-4b10-9a44-c89249695112",
   "metadata": {},
   "outputs": [
    {
     "name": "stdout",
     "output_type": "stream",
     "text": [
      "\n",
      "Number of Invalid Dates: 0\n"
     ]
    }
   ],
   "source": [
    "# Time Series Analysis (Seasonality, Trends, Noise with Explanations)\n",
    "# ===============================\n",
    "# Convert 'order_date' to datetime and check for missing/invalid dates\n",
    "df['order_date'] = pd.to_datetime(df['order_date'], errors='coerce')\n",
    "invalid_dates = df[df['order_date'].isnull()]\n",
    "print(f\"\\nNumber of Invalid Dates: {len(invalid_dates)}\")"
   ]
  },
  {
   "cell_type": "code",
   "execution_count": 132,
   "id": "e3aeb838-3128-4106-a0e5-c56ea7fa4266",
   "metadata": {},
   "outputs": [
    {
     "data": {
      "image/png": "[encoded data removed]",
      "text/plain": [
       "<Figure size 1200x600 with 1 Axes>"
      ]
     },
     "metadata": {},
     "output_type": "display_data"
    }
   ],
   "source": [
    "# Plot sales over time\n",
    "sales_by_date = df.groupby('order_date')['quantity'].sum()\n",
    "plt.figure(figsize=(12, 6))\n",
    "plt.plot(sales_by_date, label='Daily Sales')\n",
    "plt.title(\"Sales Over Time\")\n",
    "plt.xlabel('Date')\n",
    "plt.ylabel('Quantity Sold')\n",
    "plt.legend()\n",
    "plt.show()"
   ]
  },
  {
   "cell_type": "code",
   "execution_count": 133,
   "id": "936ffb16-1f85-4c3b-88e6-318b8e50b215",
   "metadata": {},
   "outputs": [
    {
     "name": "stdout",
     "output_type": "stream",
     "text": [
      "\n",
      "Time Series Analysis of Sales Over Time:\n",
      " - Total number of sales records: 358\n",
      " - Sales peaks around certain dates, which could indicate promotions or seasonal trends.\n",
      " - There is significant volatility in daily sales.\n"
     ]
    }
   ],
   "source": [
    "# Verbal explanation of time series\n",
    "print(\"\\nTime Series Analysis of Sales Over Time:\")\n",
    "print(f\" - Total number of sales records: {len(sales_by_date)}\")\n",
    "print(f\" - Sales peaks around certain dates, which could indicate promotions or seasonal trends.\")\n",
    "print(f\" - There {'is' if sales_by_date.diff().std() > 10 else 'is no'} significant volatility in daily sales.\")"
   ]
  },
  {
   "cell_type": "code",
   "execution_count": 134,
   "id": "228eaed5-ea4b-4684-95e8-6b43f67d8d7e",
   "metadata": {},
   "outputs": [],
   "source": [
    "# Monthly sales trends\n",
    "df['Month'] = df['order_date'].dt.month\n",
    "monthly_sales = df.groupby('Month')['quantity'].sum()"
   ]
  },
  {
   "cell_type": "code",
   "execution_count": 135,
   "id": "7cc7672d-271f-46fd-9857-09238f4f5611",
   "metadata": {},
   "outputs": [
    {
     "data": {
      "image/png": "[encoded data removed]",
      "text/plain": [
       "<Figure size 1000x600 with 1 Axes>"
      ]
     },
     "metadata": {},
     "output_type": "display_data"
    }
   ],
   "source": [
    "plt.figure(figsize=(10, 6))\n",
    "monthly_sales.plot(kind='bar', color='skyblue')\n",
    "plt.title(\"Total Sales by Month\")\n",
    "plt.xlabel(\"Month\")\n",
    "plt.ylabel(\"Total Quantity Sold\")\n",
    "plt.show()"
   ]
  },
  {
   "cell_type": "code",
   "execution_count": 136,
   "id": "f977fab3-6a87-4662-aecd-c0c2c618563f",
   "metadata": {},
   "outputs": [
    {
     "name": "stdout",
     "output_type": "stream",
     "text": [
      "\n",
      "Monthly Sales Trend:\n",
      " - The highest sales occurred in month 1 with 4361 units sold.\n",
      " - The lowest sales occurred in month 12 with 3696 units sold.\n",
      " - There is no strong seasonal pattern in sales.\n"
     ]
    }
   ],
   "source": [
    "# Verbal explanation of monthly trends\n",
    "print(\"\\nMonthly Sales Trend:\")\n",
    "print(f\" - The highest sales occurred in month {monthly_sales.idxmax()} with {monthly_sales.max()} units sold.\")\n",
    "print(f\" - The lowest sales occurred in month {monthly_sales.idxmin()} with {monthly_sales.min()} units sold.\")\n",
    "print(f\" - There is {'clear seasonality' if monthly_sales.max() > 1.5 * monthly_sales.mean() else 'no strong seasonal pattern'} in sales.\")"
   ]
  },
  {
   "cell_type": "code",
   "execution_count": 137,
   "id": "2bb6ec7b-9a17-47ea-a7fd-331153ccfdf9",
   "metadata": {},
   "outputs": [
    {
     "data": {
      "text/html": [
       "<div>\n",
       "<style scoped>\n",
       "    .dataframe tbody tr th:only-of-type {\n",
       "        vertical-align: middle;\n",
       "    }\n",
       "\n",
       "    .dataframe tbody tr th {\n",
       "        vertical-align: top;\n",
       "    }\n",
       "\n",
       "    .dataframe thead th {\n",
       "        text-align: right;\n",
       "    }\n",
       "</style>\n",
       "<table border=\"1\" class=\"dataframe\">\n",
       "  <thead>\n",
       "    <tr style=\"text-align: right;\">\n",
       "      <th></th>\n",
       "      <th>pizza_name_id</th>\n",
       "      <th>pizza_name</th>\n",
       "      <th>pizza_ingredients</th>\n",
       "      <th>Items_Qty_In_Grams</th>\n",
       "    </tr>\n",
       "  </thead>\n",
       "  <tbody>\n",
       "    <tr>\n",
       "      <th>0</th>\n",
       "      <td>bbq_ckn_l</td>\n",
       "      <td>The Barbecue Chicken Pizza</td>\n",
       "      <td>Barbecued Chicken</td>\n",
       "      <td>40.0</td>\n",
       "    </tr>\n",
       "    <tr>\n",
       "      <th>1</th>\n",
       "      <td>bbq_ckn_l</td>\n",
       "      <td>The Barbecue Chicken Pizza</td>\n",
       "      <td>Red Peppers</td>\n",
       "      <td>15.0</td>\n",
       "    </tr>\n",
       "    <tr>\n",
       "      <th>2</th>\n",
       "      <td>bbq_ckn_l</td>\n",
       "      <td>The Barbecue Chicken Pizza</td>\n",
       "      <td>Green Peppers</td>\n",
       "      <td>20.0</td>\n",
       "    </tr>\n",
       "    <tr>\n",
       "      <th>3</th>\n",
       "      <td>bbq_ckn_l</td>\n",
       "      <td>The Barbecue Chicken Pizza</td>\n",
       "      <td>Tomatoes</td>\n",
       "      <td>30.0</td>\n",
       "    </tr>\n",
       "    <tr>\n",
       "      <th>4</th>\n",
       "      <td>bbq_ckn_l</td>\n",
       "      <td>The Barbecue Chicken Pizza</td>\n",
       "      <td>Red Onions</td>\n",
       "      <td>60.0</td>\n",
       "    </tr>\n",
       "    <tr>\n",
       "      <th>...</th>\n",
       "      <td>...</td>\n",
       "      <td>...</td>\n",
       "      <td>...</td>\n",
       "      <td>...</td>\n",
       "    </tr>\n",
       "    <tr>\n",
       "      <th>513</th>\n",
       "      <td>veggie_veg_s</td>\n",
       "      <td>The Vegetables + Vegetables Pizza</td>\n",
       "      <td>Green Peppers</td>\n",
       "      <td>20.0</td>\n",
       "    </tr>\n",
       "    <tr>\n",
       "      <th>514</th>\n",
       "      <td>veggie_veg_s</td>\n",
       "      <td>The Vegetables + Vegetables Pizza</td>\n",
       "      <td>Red Onions</td>\n",
       "      <td>20.0</td>\n",
       "    </tr>\n",
       "    <tr>\n",
       "      <th>515</th>\n",
       "      <td>veggie_veg_s</td>\n",
       "      <td>The Vegetables + Vegetables Pizza</td>\n",
       "      <td>Zucchini</td>\n",
       "      <td>10.0</td>\n",
       "    </tr>\n",
       "    <tr>\n",
       "      <th>516</th>\n",
       "      <td>veggie_veg_s</td>\n",
       "      <td>The Vegetables + Vegetables Pizza</td>\n",
       "      <td>Spinach</td>\n",
       "      <td>15.0</td>\n",
       "    </tr>\n",
       "    <tr>\n",
       "      <th>517</th>\n",
       "      <td>veggie_veg_s</td>\n",
       "      <td>The Vegetables + Vegetables Pizza</td>\n",
       "      <td>Garlic</td>\n",
       "      <td>5.0</td>\n",
       "    </tr>\n",
       "  </tbody>\n",
       "</table>\n",
       "<p>518 rows × 4 columns</p>\n",
       "</div>"
      ],
      "text/plain": [
       "    pizza_name_id                         pizza_name  pizza_ingredients  \\\n",
       "0       bbq_ckn_l         The Barbecue Chicken Pizza  Barbecued Chicken   \n",
       "1       bbq_ckn_l         The Barbecue Chicken Pizza        Red Peppers   \n",
       "2       bbq_ckn_l         The Barbecue Chicken Pizza      Green Peppers   \n",
       "3       bbq_ckn_l         The Barbecue Chicken Pizza           Tomatoes   \n",
       "4       bbq_ckn_l         The Barbecue Chicken Pizza         Red Onions   \n",
       "..            ...                                ...                ...   \n",
       "513  veggie_veg_s  The Vegetables + Vegetables Pizza      Green Peppers   \n",
       "514  veggie_veg_s  The Vegetables + Vegetables Pizza         Red Onions   \n",
       "515  veggie_veg_s  The Vegetables + Vegetables Pizza           Zucchini   \n",
       "516  veggie_veg_s  The Vegetables + Vegetables Pizza            Spinach   \n",
       "517  veggie_veg_s  The Vegetables + Vegetables Pizza             Garlic   \n",
       "\n",
       "     Items_Qty_In_Grams  \n",
       "0                  40.0  \n",
       "1                  15.0  \n",
       "2                  20.0  \n",
       "3                  30.0  \n",
       "4                  60.0  \n",
       "..                  ...  \n",
       "513                20.0  \n",
       "514                20.0  \n",
       "515                10.0  \n",
       "516                15.0  \n",
       "517                 5.0  \n",
       "\n",
       "[518 rows x 4 columns]"
      ]
     },
     "execution_count": 137,
     "metadata": {},
     "output_type": "execute_result"
    }
   ],
   "source": [
    "df = pd.read_excel(r\"C:\\Users\\Dell\\Downloads\\Pizza_ingredients.xlsx\") # Load your dataset\n",
    "df"
   ]
  },
  {
   "cell_type": "markdown",
   "id": "03323a3b-b940-443f-8b2a-62808cc9a461",
   "metadata": {},
   "source": [
    "#Data Cleaning"
   ]
  },
  {
   "cell_type": "code",
   "execution_count": 139,
   "id": "85ecc603-352e-4502-9034-6692406f89a3",
   "metadata": {},
   "outputs": [
    {
     "name": "stdout",
     "output_type": "stream",
     "text": [
      "Columns in the dataset:\n",
      "Index(['pizza_name_id', 'pizza_name', 'pizza_ingredients',\n",
      "       'Items_Qty_In_Grams'],\n",
      "      dtype='object')\n"
     ]
    }
   ],
   "source": [
    "# Print column names to check for discrepancies\n",
    "print(\"Columns in the dataset:\")\n",
    "print(df.columns)"
   ]
  },
  {
   "cell_type": "code",
   "execution_count": 140,
   "id": "594c89cc-d599-4955-89db-ea9bca4e1301",
   "metadata": {},
   "outputs": [
    {
     "name": "stdout",
     "output_type": "stream",
     "text": [
      "First few rows of the dataset:\n",
      "  pizza_name_id                  pizza_name  pizza_ingredients  \\\n",
      "0     bbq_ckn_l  The Barbecue Chicken Pizza  Barbecued Chicken   \n",
      "1     bbq_ckn_l  The Barbecue Chicken Pizza        Red Peppers   \n",
      "2     bbq_ckn_l  The Barbecue Chicken Pizza      Green Peppers   \n",
      "3     bbq_ckn_l  The Barbecue Chicken Pizza           Tomatoes   \n",
      "4     bbq_ckn_l  The Barbecue Chicken Pizza         Red Onions   \n",
      "\n",
      "   Items_Qty_In_Grams  \n",
      "0                40.0  \n",
      "1                15.0  \n",
      "2                20.0  \n",
      "3                30.0  \n",
      "4                60.0  \n"
     ]
    }
   ],
   "source": [
    "# Print the first few rows to verify data\n",
    "print(\"First few rows of the dataset:\")\n",
    "print(df.head())"
   ]
  },
  {
   "cell_type": "code",
   "execution_count": 142,
   "id": "eb362b06-cfa4-4816-b527-ec17b3510ee6",
   "metadata": {},
   "outputs": [],
   "source": [
    "import pandas as pd\n",
    "from dateutil.parser import parse"
   ]
  },
  {
   "cell_type": "code",
   "execution_count": 145,
   "id": "aa497bf6-0efd-4768-bf8e-b2289df0fe92",
   "metadata": {},
   "outputs": [
    {
     "name": "stdout",
     "output_type": "stream",
     "text": [
      "\n",
      "Checking Missing Values:\n",
      "Missing values before any processing:\n",
      " pizza_name_id         0\n",
      "pizza_name            0\n",
      "pizza_ingredients     0\n",
      "Items_Qty_In_Grams    4\n",
      "dtype: int64\n"
     ]
    }
   ],
   "source": [
    "# Check for Missing Values\n",
    "# ===============================\n",
    "print(\"\\nChecking Missing Values:\")\n",
    "missing_before = df.isnull().sum()\n",
    "print(\"Missing values before any processing:\\n\", missing_before)"
   ]
  },
  {
   "cell_type": "code",
   "execution_count": 146,
   "id": "9ca73994-0fcc-4a5b-a9d8-dbfeaae5556f",
   "metadata": {},
   "outputs": [],
   "source": [
    "# Convert Date and Time to Proper Format\n",
    "# ===============================\n",
    "def convert_dates(date_series):\n",
    "    return date_series.apply(lambda x: parse(x, dayfirst=False).strftime('%Y-%m-%d'))"
   ]
  },
  {
   "cell_type": "code",
   "execution_count": 148,
   "id": "d661cd6a-69f6-41b6-b627-ae017c5f018c",
   "metadata": {},
   "outputs": [],
   "source": [
    "# Convert 'order_date' column if present\n",
    "if 'order_date' in df.columns:\n",
    "    df['order_date'] = convert_dates(df['order_date'])"
   ]
  },
  {
   "cell_type": "code",
   "execution_count": 151,
   "id": "feb082bc-e16e-4842-865d-588343f012ac",
   "metadata": {},
   "outputs": [],
   "source": [
    "# Convert 'order_time' column if present\n",
    "if 'order_time' in df.columns:\n",
    "    df['order_time'] = pd.to_datetime(df['order_time'], format='%H:%M:%S', errors='coerce').dt.strftime('%H:%M:%S')"
   ]
  },
  {
   "cell_type": "code",
   "execution_count": 153,
   "id": "00a6b2e8-cca0-4f77-805f-1cfdc414ef46",
   "metadata": {},
   "outputs": [],
   "source": [
    "# Combine 'order_date' and 'order_time' into a single datetime column if both exist\n",
    "if 'order_date' in df.columns and 'order_time' in df.columns:\n",
    "    df['order_datetime'] = pd.to_datetime(df['order_date'] + ' ' + df['order_time'], format='%Y-%m-%d %H:%M:%S', errors='coerce')\n",
    "    df.drop(columns=['order_date', 'order_time'], inplace=True)"
   ]
  },
  {
   "cell_type": "code",
   "execution_count": 154,
   "id": "8871fde9-8a4f-4cb9-960d-51554385dadd",
   "metadata": {},
   "outputs": [],
   "source": [
    "# Remove Duplicates\n",
    "# ===============================\n",
    "df.drop_duplicates(inplace=True)"
   ]
  },
  {
   "cell_type": "code",
   "execution_count": 156,
   "id": "385217b5-8073-4cbd-9d3d-9c050391633c",
   "metadata": {},
   "outputs": [],
   "source": [
    "# Feature Engineering\n",
    "# ===============================\n",
    "if 'order_datetime' in df.columns:\n",
    "    df['order_day'] = df['order_datetime'].dt.day\n",
    "    df['order_hour'] = df['order_datetime'].dt.hour\n",
    "    df['order_month'] = df['order_datetime'].dt.month\n",
    "    df['order_day_of_week'] = df['order_datetime'].dt.dayofweek"
   ]
  },
  {
   "cell_type": "code",
   "execution_count": 167,
   "id": "16bb1217-b660-436b-a3b5-cf6e1cd8e78e",
   "metadata": {},
   "outputs": [
    {
     "name": "stdout",
     "output_type": "stream",
     "text": [
      "Preprocessed data saved to C:\\Users\\Dell\\Downloads\\Pizza_Sale.xlsx\n"
     ]
    }
   ],
   "source": [
    "# Save preprocessed data for modeling\n",
    "output_file =r\"C:\\Users\\Dell\\Downloads\\Pizza_Sale.xlsx\"\n",
    "df.to_csv(output_file, index=False)\n",
    "print(f\"Preprocessed data saved to {output_file}\")"
   ]
  },
  {
   "cell_type": "code",
   "execution_count": 168,
   "id": "03e22f94-4535-453d-adc9-8ee5f81ef8e4",
   "metadata": {},
   "outputs": [
    {
     "name": "stdout",
     "output_type": "stream",
     "text": [
      "\n",
      "Final Data Info:\n",
      "<class 'pandas.core.frame.DataFrame'>\n",
      "RangeIndex: 518 entries, 0 to 517\n",
      "Data columns (total 4 columns):\n",
      " #   Column              Non-Null Count  Dtype  \n",
      "---  ------              --------------  -----  \n",
      " 0   pizza_name_id       518 non-null    object \n",
      " 1   pizza_name          518 non-null    object \n",
      " 2   pizza_ingredients   518 non-null    object \n",
      " 3   Items_Qty_In_Grams  514 non-null    float64\n",
      "dtypes: float64(1), object(3)\n",
      "memory usage: 16.3+ KB\n",
      "None\n"
     ]
    }
   ],
   "source": [
    "# Display final dataset info\n",
    "print(\"\\nFinal Data Info:\")\n",
    "print(df.info())"
   ]
  },
  {
   "cell_type": "code",
   "execution_count": 187,
   "id": "3009fae9-7259-4f2b-991b-3b6221c74a64",
   "metadata": {},
   "outputs": [
    {
     "name": "stdout",
     "output_type": "stream",
     "text": [
      "Requirement already satisfied: openpyxl in c:\\users\\dell\\appdata\\local\\programs\\python\\python312\\lib\\site-packages (3.1.5)\n",
      "Requirement already satisfied: et-xmlfile in c:\\users\\dell\\appdata\\local\\programs\\python\\python312\\lib\\site-packages (from openpyxl) (1.1.0)\n"
     ]
    }
   ],
   "source": [
    "!pip install openpyxl"
   ]
  },
  {
   "cell_type": "markdown",
   "id": "cf6fd8ff-412f-4ddb-bc74-1fa59b14e88a",
   "metadata": {},
   "source": [
    "Exploratory Data Analysis"
   ]
  },
  {
   "cell_type": "code",
   "execution_count": 193,
   "id": "8dca6d26-d58e-49a7-aed5-35101fac5902",
   "metadata": {},
   "outputs": [],
   "source": [
    "# Importing necessary libraries\n",
    "import pandas as pd\n",
    "import numpy as np\n",
    "import matplotlib.pyplot as plt\n",
    "import seaborn as sns"
   ]
  },
  {
   "cell_type": "code",
   "execution_count": 174,
   "id": "ac44a8fc-d2d8-4ebf-b796-6d1baed26141",
   "metadata": {},
   "outputs": [
    {
     "name": "stdout",
     "output_type": "stream",
     "text": [
      "\n",
      "First few rows of the dataset:\n",
      "  pizza_name_id                  pizza_name  pizza_ingredients  \\\n",
      "0     bbq_ckn_l  The Barbecue Chicken Pizza  Barbecued Chicken   \n",
      "1     bbq_ckn_l  The Barbecue Chicken Pizza        Red Peppers   \n",
      "2     bbq_ckn_l  The Barbecue Chicken Pizza      Green Peppers   \n",
      "3     bbq_ckn_l  The Barbecue Chicken Pizza           Tomatoes   \n",
      "4     bbq_ckn_l  The Barbecue Chicken Pizza         Red Onions   \n",
      "\n",
      "   Items_Qty_In_Grams  \n",
      "0                40.0  \n",
      "1                15.0  \n",
      "2                20.0  \n",
      "3                30.0  \n",
      "4                60.0  \n"
     ]
    }
   ],
   "source": [
    "# Initial Inspection of the Data\n",
    "# ===============================\n",
    "# Display first few rows of the dataset\n",
    "print(\"\\nFirst few rows of the dataset:\")\n",
    "print(df.head())"
   ]
  },
  {
   "cell_type": "code",
   "execution_count": 175,
   "id": "0893d34b-ccae-45f4-a273-ea1ef3d69127",
   "metadata": {},
   "outputs": [
    {
     "name": "stdout",
     "output_type": "stream",
     "text": [
      "\n",
      "Basic Information:\n",
      "<class 'pandas.core.frame.DataFrame'>\n",
      "RangeIndex: 518 entries, 0 to 517\n",
      "Data columns (total 4 columns):\n",
      " #   Column              Non-Null Count  Dtype  \n",
      "---  ------              --------------  -----  \n",
      " 0   pizza_name_id       518 non-null    object \n",
      " 1   pizza_name          518 non-null    object \n",
      " 2   pizza_ingredients   518 non-null    object \n",
      " 3   Items_Qty_In_Grams  514 non-null    float64\n",
      "dtypes: float64(1), object(3)\n",
      "memory usage: 16.3+ KB\n",
      "None\n"
     ]
    }
   ],
   "source": [
    "# Check the basic information of the dataset\n",
    "print(\"\\nBasic Information:\")\n",
    "print(df.info())"
   ]
  },
  {
   "cell_type": "code",
   "execution_count": 196,
   "id": "6dcc771d-f2a1-4cdc-a513-20454917b9b8",
   "metadata": {},
   "outputs": [
    {
     "name": "stdout",
     "output_type": "stream",
     "text": [
      "\n",
      "Summary Statistics:\n",
      "       pizza_name_id       pizza_name pizza_ingredients  Items_Qty_In_Grams\n",
      "count            518              518               518          514.000000\n",
      "unique            91               32                64                 NaN\n",
      "top     veggie_veg_s  The Greek Pizza            Garlic                 NaN\n",
      "freq               8               30                57                 NaN\n",
      "mean             NaN              NaN               NaN           30.564202\n",
      "std              NaN              NaN               NaN           30.351623\n",
      "min              NaN              NaN               NaN            5.000000\n",
      "25%              NaN              NaN               NaN           10.000000\n",
      "50%              NaN              NaN               NaN           20.000000\n",
      "75%              NaN              NaN               NaN           40.000000\n",
      "max              NaN              NaN               NaN          200.000000\n"
     ]
    }
   ],
   "source": [
    "# Display summary statistics\n",
    "print(\"\\nSummary Statistics:\")\n",
    "print(df.describe(include='all'))"
   ]
  },
  {
   "cell_type": "code",
   "execution_count": null,
   "id": "26c5df57-70ec-42c8-b39b-7600e38b8167",
   "metadata": {},
   "outputs": [],
   "source": []
  }
 ],
 "metadata": {
  "kernelspec": {
   "display_name": "Python 3 (ipykernel)",
   "language": "python",
   "name": "python3"
  },
  "language_info": {
   "codemirror_mode": {
    "name": "ipython",
    "version": 3
   },
   "file_extension": ".py",
   "mimetype": "text/x-python",
   "name": "python",
   "nbconvert_exporter": "python",
   "pygments_lexer": "ipython3",
   "version": "3.12.7"
  }
 },
 "nbformat": 4,
 "nbformat_minor": 5
}
